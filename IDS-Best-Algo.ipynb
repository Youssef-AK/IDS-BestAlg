{
 "cells": [
  {
   "cell_type": "code",
   "execution_count": 2,
   "id": "a547bf73-71af-45fc-95d6-460f63b671ec",
   "metadata": {},
   "outputs": [],
   "source": [
    "# import required modules\n",
    "import os\n",
    "from collections import defaultdict\n",
    "import pandas as pd\n",
    "import numpy as np\n",
    "import matplotlib.pyplot as plt\n",
    "%matplotlib inline\n",
    "import seaborn as sea\n",
    "import time"
   ]
  },
  {
   "cell_type": "code",
   "execution_count": 2,
   "id": "c2e7fda7-1017-47f3-bc21-a74035e37855",
   "metadata": {},
   "outputs": [],
   "source": [
    "import warnings\n",
    "warnings.filterwarnings('ignore')"
   ]
  },
  {
   "cell_type": "markdown",
   "id": "d8028124-4f29-42a5-bd6b-4862952dda50",
   "metadata": {},
   "source": [
    "# Reading and processing dataset"
   ]
  },
  {
   "cell_type": "code",
   "execution_count": 3,
   "id": "7aaacfb1-c5ab-4ae6-a03e-90b6ab827dc8",
   "metadata": {},
   "outputs": [
    {
     "name": "stdout",
     "output_type": "stream",
     "text": [
      "back,buffer_overflow,ftp_write,guess_passwd,imap,ipsweep,land,loadmodule,multihop,neptune,nmap,normal,perl,phf,pod,portsweep,rootkit,satan,smurf,spy,teardrop,warezclient,warezmaster.\n",
      "duration: continuous.\n",
      "protocol_type: symbolic.\n",
      "service: symbolic.\n",
      "flag: symbolic.\n",
      "src_bytes: continuous.\n",
      "dst_bytes: continuous.\n",
      "land: symbolic.\n",
      "wrong_fragment: continuous.\n",
      "urgent: continuous.\n",
      "hot: continuous.\n",
      "num_failed_logins: continuous.\n",
      "logged_in: symbolic.\n",
      "num_compromised: continuous.\n",
      "root_shell: continuous.\n",
      "su_attempted: continuous.\n",
      "num_root: continuous.\n",
      "num_file_creations: continuous.\n",
      "num_shells: continuous.\n",
      "num_access_files: continuous.\n",
      "num_outbound_cmds: continuous.\n",
      "is_host_login: symbolic.\n",
      "is_guest_login: symbolic.\n",
      "count: continuous.\n",
      "srv_count: continuous.\n",
      "serror_rate: continuous.\n",
      "srv_serror_rate: continuous.\n",
      "rerror_rate: continuous.\n",
      "srv_rerror_rate: continuous.\n",
      "same_srv_rate: continuous.\n",
      "diff_srv_rate: continuous.\n",
      "srv_diff_host_rate: continuous.\n",
      "dst_host_count: continuous.\n",
      "dst_host_srv_count: continuous.\n",
      "dst_host_same_srv_rate: continuous.\n",
      "dst_host_diff_srv_rate: continuous.\n",
      "dst_host_same_src_port_rate: continuous.\n",
      "dst_host_srv_diff_host_rate: continuous.\n",
      "dst_host_serror_rate: continuous.\n",
      "dst_host_srv_serror_rate: continuous.\n",
      "dst_host_rerror_rate: continuous.\n",
      "dst_host_srv_rerror_rate: continuous.\n"
     ]
    }
   ],
   "source": [
    "# Read names\n",
    "with open('kddcup.names', 'r') as names:\n",
    "    print(names.read())"
   ]
  },
  {
   "cell_type": "code",
   "execution_count": 4,
   "id": "ffcd0fa6-8280-4a5c-8890-1fc99e754f0c",
   "metadata": {},
   "outputs": [],
   "source": [
    "cols=\"\"\"duration,\n",
    "protocol_type,\n",
    "service,\n",
    "flag,\n",
    "src_bytes,\n",
    "dst_bytes,\n",
    "land,\n",
    "wrong_fragment,\n",
    "urgent,\n",
    "hot,\n",
    "num_failed_logins,\n",
    "logged_in,\n",
    "num_compromised,\n",
    "root_shell,\n",
    "su_attempted,\n",
    "num_root,\n",
    "num_file_creations,\n",
    "num_shells,\n",
    "num_access_files,\n",
    "num_outbound_cmds,\n",
    "is_host_login,\n",
    "is_guest_login,\n",
    "count,\n",
    "srv_count,\n",
    "serror_rate,\n",
    "srv_serror_rate,\n",
    "rerror_rate,\n",
    "srv_rerror_rate,\n",
    "same_srv_rate,\n",
    "diff_srv_rate,\n",
    "srv_diff_host_rate,\n",
    "dst_host_count,\n",
    "dst_host_srv_count,\n",
    "dst_host_same_srv_rate,\n",
    "dst_host_diff_srv_rate,\n",
    "dst_host_same_src_port_rate,\n",
    "dst_host_srv_diff_host_rate,\n",
    "dst_host_serror_rate,\n",
    "dst_host_srv_serror_rate,\n",
    "dst_host_rerror_rate,\n",
    "dst_host_srv_rerror_rate\"\"\""
   ]
  },
  {
   "cell_type": "code",
   "execution_count": 5,
   "id": "fa5adf77-4739-4619-b8a6-27e8dd20e5ef",
   "metadata": {},
   "outputs": [
    {
     "name": "stdout",
     "output_type": "stream",
     "text": [
      "42\n"
     ]
    }
   ],
   "source": [
    "# Split our columns\n",
    "columns= []\n",
    "for c in cols.split(','):\n",
    "    if(c.strip()):\n",
    "        columns.append(c.strip())\n",
    "columns.append('target')\n",
    "print(len(columns))"
   ]
  },
  {
   "cell_type": "code",
   "execution_count": 6,
   "id": "94aa2dc5-e615-4d41-aede-224b91152435",
   "metadata": {},
   "outputs": [
    {
     "name": "stdout",
     "output_type": "stream",
     "text": [
      "back dos\n",
      "buffer_overflow u2r\n",
      "ftp_write r2l\n",
      "guess_passwd r2l\n",
      "imap r2l\n",
      "ipsweep probe\n",
      "land dos\n",
      "loadmodule u2r\n",
      "multihop r2l\n",
      "neptune dos\n",
      "nmap probe\n",
      "perl u2r\n",
      "phf r2l\n",
      "pod dos\n",
      "portsweep probe\n",
      "rootkit u2r\n",
      "satan probe\n",
      "smurf dos\n",
      "spy r2l\n",
      "teardrop dos\n",
      "warezclient r2l\n",
      "warezmaster r2l\n"
     ]
    }
   ],
   "source": [
    "# Read attack types\n",
    "with open('training_attack_types', 'r') as types:\n",
    "    print(types.read())"
   ]
  },
  {
   "cell_type": "code",
   "execution_count": 7,
   "id": "804c6991-d39d-4551-b4f3-23e991d9edb1",
   "metadata": {},
   "outputs": [],
   "source": [
    "attack_types = {\n",
    "    'normal': 'normal',\n",
    "    'back': 'dos',\n",
    "    'buffer_overflow': 'u2r',\n",
    "    'ftp_write': 'r2l',\n",
    "    'guess_passwd': 'r2l',\n",
    "    'imap': 'r2l',\n",
    "    'ipsweep': 'probe',\n",
    "    'land': 'dos',\n",
    "    'loadmodule': 'u2r',\n",
    "    'multihop': 'r2l',\n",
    "    'neptune': 'dos',\n",
    "    'nmap': 'probe',\n",
    "    'perl': 'u2r',\n",
    "    'phf': 'r2l',\n",
    "    'pod': 'dos',\n",
    "    'portsweep': 'probe',\n",
    "    'rootkit': 'u2r',\n",
    "    'satan': 'probe',\n",
    "    'smurf': 'dos',\n",
    "    'spy': 'r2l',\n",
    "    'teardrop': 'dos',\n",
    "    'warezclient': 'r2l',\n",
    "    'warezmaster': 'r2l'\n",
    "}"
   ]
  },
  {
   "cell_type": "code",
   "execution_count": 8,
   "id": "c3758576-e6a9-46ec-bb29-c924cd035ce2",
   "metadata": {},
   "outputs": [
    {
     "data": {
      "text/html": [
       "<div>\n",
       "<style scoped>\n",
       "    .dataframe tbody tr th:only-of-type {\n",
       "        vertical-align: middle;\n",
       "    }\n",
       "\n",
       "    .dataframe tbody tr th {\n",
       "        vertical-align: top;\n",
       "    }\n",
       "\n",
       "    .dataframe thead th {\n",
       "        text-align: right;\n",
       "    }\n",
       "</style>\n",
       "<table border=\"1\" class=\"dataframe\">\n",
       "  <thead>\n",
       "    <tr style=\"text-align: right;\">\n",
       "      <th></th>\n",
       "      <th>duration</th>\n",
       "      <th>protocol_type</th>\n",
       "      <th>service</th>\n",
       "      <th>flag</th>\n",
       "      <th>src_bytes</th>\n",
       "      <th>dst_bytes</th>\n",
       "      <th>land</th>\n",
       "      <th>wrong_fragment</th>\n",
       "      <th>urgent</th>\n",
       "      <th>hot</th>\n",
       "      <th>...</th>\n",
       "      <th>dst_host_srv_count</th>\n",
       "      <th>dst_host_same_srv_rate</th>\n",
       "      <th>dst_host_diff_srv_rate</th>\n",
       "      <th>dst_host_same_src_port_rate</th>\n",
       "      <th>dst_host_srv_diff_host_rate</th>\n",
       "      <th>dst_host_serror_rate</th>\n",
       "      <th>dst_host_srv_serror_rate</th>\n",
       "      <th>dst_host_rerror_rate</th>\n",
       "      <th>dst_host_srv_rerror_rate</th>\n",
       "      <th>target</th>\n",
       "    </tr>\n",
       "  </thead>\n",
       "  <tbody>\n",
       "    <tr>\n",
       "      <th>0</th>\n",
       "      <td>0</td>\n",
       "      <td>tcp</td>\n",
       "      <td>http</td>\n",
       "      <td>SF</td>\n",
       "      <td>181</td>\n",
       "      <td>5450</td>\n",
       "      <td>0</td>\n",
       "      <td>0</td>\n",
       "      <td>0</td>\n",
       "      <td>0</td>\n",
       "      <td>...</td>\n",
       "      <td>9</td>\n",
       "      <td>1.0</td>\n",
       "      <td>0.0</td>\n",
       "      <td>0.11</td>\n",
       "      <td>0.0</td>\n",
       "      <td>0.0</td>\n",
       "      <td>0.0</td>\n",
       "      <td>0.0</td>\n",
       "      <td>0.0</td>\n",
       "      <td>normal.</td>\n",
       "    </tr>\n",
       "    <tr>\n",
       "      <th>1</th>\n",
       "      <td>0</td>\n",
       "      <td>tcp</td>\n",
       "      <td>http</td>\n",
       "      <td>SF</td>\n",
       "      <td>239</td>\n",
       "      <td>486</td>\n",
       "      <td>0</td>\n",
       "      <td>0</td>\n",
       "      <td>0</td>\n",
       "      <td>0</td>\n",
       "      <td>...</td>\n",
       "      <td>19</td>\n",
       "      <td>1.0</td>\n",
       "      <td>0.0</td>\n",
       "      <td>0.05</td>\n",
       "      <td>0.0</td>\n",
       "      <td>0.0</td>\n",
       "      <td>0.0</td>\n",
       "      <td>0.0</td>\n",
       "      <td>0.0</td>\n",
       "      <td>normal.</td>\n",
       "    </tr>\n",
       "    <tr>\n",
       "      <th>2</th>\n",
       "      <td>0</td>\n",
       "      <td>tcp</td>\n",
       "      <td>http</td>\n",
       "      <td>SF</td>\n",
       "      <td>235</td>\n",
       "      <td>1337</td>\n",
       "      <td>0</td>\n",
       "      <td>0</td>\n",
       "      <td>0</td>\n",
       "      <td>0</td>\n",
       "      <td>...</td>\n",
       "      <td>29</td>\n",
       "      <td>1.0</td>\n",
       "      <td>0.0</td>\n",
       "      <td>0.03</td>\n",
       "      <td>0.0</td>\n",
       "      <td>0.0</td>\n",
       "      <td>0.0</td>\n",
       "      <td>0.0</td>\n",
       "      <td>0.0</td>\n",
       "      <td>normal.</td>\n",
       "    </tr>\n",
       "    <tr>\n",
       "      <th>3</th>\n",
       "      <td>0</td>\n",
       "      <td>tcp</td>\n",
       "      <td>http</td>\n",
       "      <td>SF</td>\n",
       "      <td>219</td>\n",
       "      <td>1337</td>\n",
       "      <td>0</td>\n",
       "      <td>0</td>\n",
       "      <td>0</td>\n",
       "      <td>0</td>\n",
       "      <td>...</td>\n",
       "      <td>39</td>\n",
       "      <td>1.0</td>\n",
       "      <td>0.0</td>\n",
       "      <td>0.03</td>\n",
       "      <td>0.0</td>\n",
       "      <td>0.0</td>\n",
       "      <td>0.0</td>\n",
       "      <td>0.0</td>\n",
       "      <td>0.0</td>\n",
       "      <td>normal.</td>\n",
       "    </tr>\n",
       "    <tr>\n",
       "      <th>4</th>\n",
       "      <td>0</td>\n",
       "      <td>tcp</td>\n",
       "      <td>http</td>\n",
       "      <td>SF</td>\n",
       "      <td>217</td>\n",
       "      <td>2032</td>\n",
       "      <td>0</td>\n",
       "      <td>0</td>\n",
       "      <td>0</td>\n",
       "      <td>0</td>\n",
       "      <td>...</td>\n",
       "      <td>49</td>\n",
       "      <td>1.0</td>\n",
       "      <td>0.0</td>\n",
       "      <td>0.02</td>\n",
       "      <td>0.0</td>\n",
       "      <td>0.0</td>\n",
       "      <td>0.0</td>\n",
       "      <td>0.0</td>\n",
       "      <td>0.0</td>\n",
       "      <td>normal.</td>\n",
       "    </tr>\n",
       "  </tbody>\n",
       "</table>\n",
       "<p>5 rows × 42 columns</p>\n",
       "</div>"
      ],
      "text/plain": [
       "   duration protocol_type service flag  src_bytes  dst_bytes  land  \\\n",
       "0         0           tcp    http   SF        181       5450     0   \n",
       "1         0           tcp    http   SF        239        486     0   \n",
       "2         0           tcp    http   SF        235       1337     0   \n",
       "3         0           tcp    http   SF        219       1337     0   \n",
       "4         0           tcp    http   SF        217       2032     0   \n",
       "\n",
       "   wrong_fragment  urgent  hot  ...  dst_host_srv_count  \\\n",
       "0               0       0    0  ...                   9   \n",
       "1               0       0    0  ...                  19   \n",
       "2               0       0    0  ...                  29   \n",
       "3               0       0    0  ...                  39   \n",
       "4               0       0    0  ...                  49   \n",
       "\n",
       "   dst_host_same_srv_rate  dst_host_diff_srv_rate  \\\n",
       "0                     1.0                     0.0   \n",
       "1                     1.0                     0.0   \n",
       "2                     1.0                     0.0   \n",
       "3                     1.0                     0.0   \n",
       "4                     1.0                     0.0   \n",
       "\n",
       "   dst_host_same_src_port_rate  dst_host_srv_diff_host_rate  \\\n",
       "0                         0.11                          0.0   \n",
       "1                         0.05                          0.0   \n",
       "2                         0.03                          0.0   \n",
       "3                         0.03                          0.0   \n",
       "4                         0.02                          0.0   \n",
       "\n",
       "   dst_host_serror_rate  dst_host_srv_serror_rate  dst_host_rerror_rate  \\\n",
       "0                   0.0                       0.0                   0.0   \n",
       "1                   0.0                       0.0                   0.0   \n",
       "2                   0.0                       0.0                   0.0   \n",
       "3                   0.0                       0.0                   0.0   \n",
       "4                   0.0                       0.0                   0.0   \n",
       "\n",
       "   dst_host_srv_rerror_rate   target  \n",
       "0                       0.0  normal.  \n",
       "1                       0.0  normal.  \n",
       "2                       0.0  normal.  \n",
       "3                       0.0  normal.  \n",
       "4                       0.0  normal.  \n",
       "\n",
       "[5 rows x 42 columns]"
      ]
     },
     "execution_count": 8,
     "metadata": {},
     "output_type": "execute_result"
    }
   ],
   "source": [
    "# Reading Dataset\n",
    "df = pd.read_csv('kddcup.data_10_percent.gz', names= columns)\n",
    "df.head()"
   ]
  },
  {
   "cell_type": "markdown",
   "id": "fabc97ab-26a4-45a5-893f-44243b4d499a",
   "metadata": {},
   "source": [
    "### Differentiating between nominal, binary, and numeric features"
   ]
  },
  {
   "cell_type": "code",
   "execution_count": 9,
   "id": "00a6efae-b6a3-4cb5-b991-8f94cd7346d4",
   "metadata": {},
   "outputs": [
    {
     "name": "stdout",
     "output_type": "stream",
     "text": [
      "> nominal columns\n",
      "\n",
      " ['protocol_type', 'service', 'flag'] \n",
      "\n",
      ">> binary columns\n",
      "\n",
      " ['land', 'logged_in', 'root_shell', 'su_attempted', 'is_host_login', 'is_guest_login'] \n",
      "\n",
      ">>> numeric columns\n",
      "\n",
      " ['duration', 'src_bytes', 'dst_bytes', 'wrong_fragment', 'urgent', 'hot', 'num_failed_logins', 'num_compromised', 'num_root', 'num_file_creations', 'num_shells', 'num_access_files', 'num_outbound_cmds', 'count', 'srv_count', 'serror_rate', 'srv_serror_rate', 'rerror_rate', 'srv_rerror_rate', 'same_srv_rate', 'diff_srv_rate', 'srv_diff_host_rate', 'dst_host_count', 'dst_host_srv_count', 'dst_host_same_srv_rate', 'dst_host_diff_srv_rate', 'dst_host_same_src_port_rate', 'dst_host_srv_diff_host_rate', 'dst_host_serror_rate', 'dst_host_srv_serror_rate', 'dst_host_rerror_rate', 'dst_host_srv_rerror_rate']\n"
     ]
    }
   ],
   "source": [
    "# root_shell is marked as a continuous feature in the kddcup.names \n",
    "# file, but it is supposed to be a binary feature according to the \n",
    "# dataset documentation\n",
    "\n",
    "col_names = np.array(columns)\n",
    "\n",
    "nominal_idx = [1, 2, 3]\n",
    "binary_idx = [6, 11, 13, 14, 20, 21]\n",
    "numeric_idx = list(set(range(41)).difference(nominal_idx).difference(binary_idx))\n",
    "\n",
    "nominal_cols = col_names[nominal_idx].tolist()\n",
    "binary_cols = col_names[binary_idx].tolist()\n",
    "numeric_cols = col_names[numeric_idx].tolist()\n",
    "\n",
    "print('> nominal columns\\n\\n', nominal_cols, '\\n')\n",
    "print('>> binary columns\\n\\n', binary_cols, '\\n' )\n",
    "print('>>> numeric columns\\n\\n', numeric_cols)"
   ]
  },
  {
   "cell_type": "code",
   "execution_count": 10,
   "id": "3ebd45ad-bc12-4c19-95bc-f09b0b8ab890",
   "metadata": {},
   "outputs": [],
   "source": [
    "# let's go to attack types for our record\n",
    "# training_attack_types.txt maps each of the 22 different attacks to 1 of 4 categories\n",
    "\n",
    "category = defaultdict(list)\n",
    "category['benign'].append('normal')\n",
    "\n",
    "with open('datasets/training_attack_types.txt', 'r') as f:\n",
    "    for line in f.readlines():\n",
    "        attack, cat = line.strip().split(' ')\n",
    "        category[cat].append(attack)\n",
    "\n",
    "attack_mapping = dict((v,k) for k in category for v in category[k])"
   ]
  },
  {
   "cell_type": "markdown",
   "id": "996a5a47-525f-4388-a62d-021b7172e94f",
   "metadata": {},
   "source": [
    "# Data Exploration"
   ]
  },
  {
   "cell_type": "code",
   "execution_count": 11,
   "id": "55039511-4fb5-4b5b-b762-1d6c5c44a17c",
   "metadata": {},
   "outputs": [
    {
     "data": {
      "text/plain": [
       "array(['normal.', 'buffer_overflow.', 'loadmodule.', 'perl.', 'neptune.',\n",
       "       'smurf.', 'guess_passwd.', 'pod.', 'teardrop.', 'portsweep.',\n",
       "       'ipsweep.', 'land.', 'ftp_write.', 'back.', 'imap.', 'satan.',\n",
       "       'phf.', 'nmap.', 'multihop.', 'warezmaster.', 'warezclient.',\n",
       "       'spy.', 'rootkit.'], dtype=object)"
      ]
     },
     "execution_count": 11,
     "metadata": {},
     "output_type": "execute_result"
    }
   ],
   "source": [
    "df['target'].unique()"
   ]
  },
  {
   "cell_type": "code",
   "execution_count": 12,
   "id": "14c0084c-350d-40b9-9b45-51b176eaf09b",
   "metadata": {},
   "outputs": [
    {
     "data": {
      "text/plain": [
       "23"
      ]
     },
     "execution_count": 12,
     "metadata": {},
     "output_type": "execute_result"
    }
   ],
   "source": [
    "df['target'].nunique()"
   ]
  },
  {
   "cell_type": "code",
   "execution_count": 13,
   "id": "eaf522d1-dc0c-4f7a-b250-05ccd3790eb9",
   "metadata": {},
   "outputs": [
    {
     "data": {
      "text/plain": [
       "smurf.              280790\n",
       "neptune.            107201\n",
       "normal.              97278\n",
       "back.                 2203\n",
       "satan.                1589\n",
       "ipsweep.              1247\n",
       "portsweep.            1040\n",
       "warezclient.          1020\n",
       "teardrop.              979\n",
       "pod.                   264\n",
       "nmap.                  231\n",
       "guess_passwd.           53\n",
       "buffer_overflow.        30\n",
       "land.                   21\n",
       "warezmaster.            20\n",
       "imap.                   12\n",
       "rootkit.                10\n",
       "loadmodule.              9\n",
       "ftp_write.               8\n",
       "multihop.                7\n",
       "phf.                     4\n",
       "perl.                    3\n",
       "spy.                     2\n",
       "Name: target, dtype: int64"
      ]
     },
     "execution_count": 13,
     "metadata": {},
     "output_type": "execute_result"
    }
   ],
   "source": [
    "# look at the number for each attack and normal records\n",
    "df['target'].value_counts().sort_values(ascending= False)"
   ]
  },
  {
   "cell_type": "markdown",
   "id": "9011206b-c9c4-4b39-930b-223fabd42c3d",
   "metadata": {},
   "source": [
    "## we can see\n",
    "normal : 97278(normal) from 494021(records) --> 396743 (attacks)\n",
    "the number of attack records is much bigger than **normal** records. This **imbalance** data can lead our model to fail in the classification task, but we will fixed soon.. :)"
   ]
  },
  {
   "cell_type": "code",
   "execution_count": 14,
   "id": "89641f41-2bc3-4b49-ba61-ebaae36297b3",
   "metadata": {},
   "outputs": [
    {
     "name": "stdout",
     "output_type": "stream",
     "text": [
      "<class 'pandas.core.frame.DataFrame'>\n",
      "RangeIndex: 494021 entries, 0 to 494020\n",
      "Data columns (total 42 columns):\n",
      " #   Column                       Non-Null Count   Dtype  \n",
      "---  ------                       --------------   -----  \n",
      " 0   duration                     494021 non-null  int64  \n",
      " 1   protocol_type                494021 non-null  object \n",
      " 2   service                      494021 non-null  object \n",
      " 3   flag                         494021 non-null  object \n",
      " 4   src_bytes                    494021 non-null  int64  \n",
      " 5   dst_bytes                    494021 non-null  int64  \n",
      " 6   land                         494021 non-null  int64  \n",
      " 7   wrong_fragment               494021 non-null  int64  \n",
      " 8   urgent                       494021 non-null  int64  \n",
      " 9   hot                          494021 non-null  int64  \n",
      " 10  num_failed_logins            494021 non-null  int64  \n",
      " 11  logged_in                    494021 non-null  int64  \n",
      " 12  num_compromised              494021 non-null  int64  \n",
      " 13  root_shell                   494021 non-null  int64  \n",
      " 14  su_attempted                 494021 non-null  int64  \n",
      " 15  num_root                     494021 non-null  int64  \n",
      " 16  num_file_creations           494021 non-null  int64  \n",
      " 17  num_shells                   494021 non-null  int64  \n",
      " 18  num_access_files             494021 non-null  int64  \n",
      " 19  num_outbound_cmds            494021 non-null  int64  \n",
      " 20  is_host_login                494021 non-null  int64  \n",
      " 21  is_guest_login               494021 non-null  int64  \n",
      " 22  count                        494021 non-null  int64  \n",
      " 23  srv_count                    494021 non-null  int64  \n",
      " 24  serror_rate                  494021 non-null  float64\n",
      " 25  srv_serror_rate              494021 non-null  float64\n",
      " 26  rerror_rate                  494021 non-null  float64\n",
      " 27  srv_rerror_rate              494021 non-null  float64\n",
      " 28  same_srv_rate                494021 non-null  float64\n",
      " 29  diff_srv_rate                494021 non-null  float64\n",
      " 30  srv_diff_host_rate           494021 non-null  float64\n",
      " 31  dst_host_count               494021 non-null  int64  \n",
      " 32  dst_host_srv_count           494021 non-null  int64  \n",
      " 33  dst_host_same_srv_rate       494021 non-null  float64\n",
      " 34  dst_host_diff_srv_rate       494021 non-null  float64\n",
      " 35  dst_host_same_src_port_rate  494021 non-null  float64\n",
      " 36  dst_host_srv_diff_host_rate  494021 non-null  float64\n",
      " 37  dst_host_serror_rate         494021 non-null  float64\n",
      " 38  dst_host_srv_serror_rate     494021 non-null  float64\n",
      " 39  dst_host_rerror_rate         494021 non-null  float64\n",
      " 40  dst_host_srv_rerror_rate     494021 non-null  float64\n",
      " 41  target                       494021 non-null  object \n",
      "dtypes: float64(15), int64(23), object(4)\n",
      "memory usage: 158.3+ MB\n"
     ]
    }
   ],
   "source": [
    "df.info()"
   ]
  },
  {
   "cell_type": "markdown",
   "id": "a58e2560-f82d-4083-812b-85ba20f08d40",
   "metadata": {},
   "source": [
    "# Data Preprocessing"
   ]
  },
  {
   "cell_type": "markdown",
   "id": "1ae341bf-984e-4a73-aaae-899065f7bd85",
   "metadata": {},
   "source": [
    "Set a column for attack type rely on target column, \n",
    "and set **only five** types we previous added by attacks_types`"
   ]
  },
  {
   "cell_type": "code",
   "execution_count": 15,
   "id": "184e6eab-90bc-40e5-87bc-a0ccf49ec793",
   "metadata": {},
   "outputs": [
    {
     "data": {
      "text/html": [
       "<div>\n",
       "<style scoped>\n",
       "    .dataframe tbody tr th:only-of-type {\n",
       "        vertical-align: middle;\n",
       "    }\n",
       "\n",
       "    .dataframe tbody tr th {\n",
       "        vertical-align: top;\n",
       "    }\n",
       "\n",
       "    .dataframe thead th {\n",
       "        text-align: right;\n",
       "    }\n",
       "</style>\n",
       "<table border=\"1\" class=\"dataframe\">\n",
       "  <thead>\n",
       "    <tr style=\"text-align: right;\">\n",
       "      <th></th>\n",
       "      <th>duration</th>\n",
       "      <th>protocol_type</th>\n",
       "      <th>service</th>\n",
       "      <th>flag</th>\n",
       "      <th>src_bytes</th>\n",
       "      <th>dst_bytes</th>\n",
       "      <th>land</th>\n",
       "      <th>wrong_fragment</th>\n",
       "      <th>urgent</th>\n",
       "      <th>hot</th>\n",
       "      <th>...</th>\n",
       "      <th>dst_host_same_srv_rate</th>\n",
       "      <th>dst_host_diff_srv_rate</th>\n",
       "      <th>dst_host_same_src_port_rate</th>\n",
       "      <th>dst_host_srv_diff_host_rate</th>\n",
       "      <th>dst_host_serror_rate</th>\n",
       "      <th>dst_host_srv_serror_rate</th>\n",
       "      <th>dst_host_rerror_rate</th>\n",
       "      <th>dst_host_srv_rerror_rate</th>\n",
       "      <th>target</th>\n",
       "      <th>Attack_type</th>\n",
       "    </tr>\n",
       "  </thead>\n",
       "  <tbody>\n",
       "    <tr>\n",
       "      <th>0</th>\n",
       "      <td>0</td>\n",
       "      <td>tcp</td>\n",
       "      <td>http</td>\n",
       "      <td>SF</td>\n",
       "      <td>181</td>\n",
       "      <td>5450</td>\n",
       "      <td>0</td>\n",
       "      <td>0</td>\n",
       "      <td>0</td>\n",
       "      <td>0</td>\n",
       "      <td>...</td>\n",
       "      <td>1.0</td>\n",
       "      <td>0.0</td>\n",
       "      <td>0.11</td>\n",
       "      <td>0.0</td>\n",
       "      <td>0.0</td>\n",
       "      <td>0.0</td>\n",
       "      <td>0.0</td>\n",
       "      <td>0.0</td>\n",
       "      <td>normal.</td>\n",
       "      <td>normal</td>\n",
       "    </tr>\n",
       "    <tr>\n",
       "      <th>1</th>\n",
       "      <td>0</td>\n",
       "      <td>tcp</td>\n",
       "      <td>http</td>\n",
       "      <td>SF</td>\n",
       "      <td>239</td>\n",
       "      <td>486</td>\n",
       "      <td>0</td>\n",
       "      <td>0</td>\n",
       "      <td>0</td>\n",
       "      <td>0</td>\n",
       "      <td>...</td>\n",
       "      <td>1.0</td>\n",
       "      <td>0.0</td>\n",
       "      <td>0.05</td>\n",
       "      <td>0.0</td>\n",
       "      <td>0.0</td>\n",
       "      <td>0.0</td>\n",
       "      <td>0.0</td>\n",
       "      <td>0.0</td>\n",
       "      <td>normal.</td>\n",
       "      <td>normal</td>\n",
       "    </tr>\n",
       "    <tr>\n",
       "      <th>2</th>\n",
       "      <td>0</td>\n",
       "      <td>tcp</td>\n",
       "      <td>http</td>\n",
       "      <td>SF</td>\n",
       "      <td>235</td>\n",
       "      <td>1337</td>\n",
       "      <td>0</td>\n",
       "      <td>0</td>\n",
       "      <td>0</td>\n",
       "      <td>0</td>\n",
       "      <td>...</td>\n",
       "      <td>1.0</td>\n",
       "      <td>0.0</td>\n",
       "      <td>0.03</td>\n",
       "      <td>0.0</td>\n",
       "      <td>0.0</td>\n",
       "      <td>0.0</td>\n",
       "      <td>0.0</td>\n",
       "      <td>0.0</td>\n",
       "      <td>normal.</td>\n",
       "      <td>normal</td>\n",
       "    </tr>\n",
       "    <tr>\n",
       "      <th>3</th>\n",
       "      <td>0</td>\n",
       "      <td>tcp</td>\n",
       "      <td>http</td>\n",
       "      <td>SF</td>\n",
       "      <td>219</td>\n",
       "      <td>1337</td>\n",
       "      <td>0</td>\n",
       "      <td>0</td>\n",
       "      <td>0</td>\n",
       "      <td>0</td>\n",
       "      <td>...</td>\n",
       "      <td>1.0</td>\n",
       "      <td>0.0</td>\n",
       "      <td>0.03</td>\n",
       "      <td>0.0</td>\n",
       "      <td>0.0</td>\n",
       "      <td>0.0</td>\n",
       "      <td>0.0</td>\n",
       "      <td>0.0</td>\n",
       "      <td>normal.</td>\n",
       "      <td>normal</td>\n",
       "    </tr>\n",
       "    <tr>\n",
       "      <th>4</th>\n",
       "      <td>0</td>\n",
       "      <td>tcp</td>\n",
       "      <td>http</td>\n",
       "      <td>SF</td>\n",
       "      <td>217</td>\n",
       "      <td>2032</td>\n",
       "      <td>0</td>\n",
       "      <td>0</td>\n",
       "      <td>0</td>\n",
       "      <td>0</td>\n",
       "      <td>...</td>\n",
       "      <td>1.0</td>\n",
       "      <td>0.0</td>\n",
       "      <td>0.02</td>\n",
       "      <td>0.0</td>\n",
       "      <td>0.0</td>\n",
       "      <td>0.0</td>\n",
       "      <td>0.0</td>\n",
       "      <td>0.0</td>\n",
       "      <td>normal.</td>\n",
       "      <td>normal</td>\n",
       "    </tr>\n",
       "  </tbody>\n",
       "</table>\n",
       "<p>5 rows × 43 columns</p>\n",
       "</div>"
      ],
      "text/plain": [
       "   duration protocol_type service flag  src_bytes  dst_bytes  land  \\\n",
       "0         0           tcp    http   SF        181       5450     0   \n",
       "1         0           tcp    http   SF        239        486     0   \n",
       "2         0           tcp    http   SF        235       1337     0   \n",
       "3         0           tcp    http   SF        219       1337     0   \n",
       "4         0           tcp    http   SF        217       2032     0   \n",
       "\n",
       "   wrong_fragment  urgent  hot  ...  dst_host_same_srv_rate  \\\n",
       "0               0       0    0  ...                     1.0   \n",
       "1               0       0    0  ...                     1.0   \n",
       "2               0       0    0  ...                     1.0   \n",
       "3               0       0    0  ...                     1.0   \n",
       "4               0       0    0  ...                     1.0   \n",
       "\n",
       "   dst_host_diff_srv_rate  dst_host_same_src_port_rate  \\\n",
       "0                     0.0                         0.11   \n",
       "1                     0.0                         0.05   \n",
       "2                     0.0                         0.03   \n",
       "3                     0.0                         0.03   \n",
       "4                     0.0                         0.02   \n",
       "\n",
       "   dst_host_srv_diff_host_rate  dst_host_serror_rate  \\\n",
       "0                          0.0                   0.0   \n",
       "1                          0.0                   0.0   \n",
       "2                          0.0                   0.0   \n",
       "3                          0.0                   0.0   \n",
       "4                          0.0                   0.0   \n",
       "\n",
       "   dst_host_srv_serror_rate  dst_host_rerror_rate  dst_host_srv_rerror_rate  \\\n",
       "0                       0.0                   0.0                       0.0   \n",
       "1                       0.0                   0.0                       0.0   \n",
       "2                       0.0                   0.0                       0.0   \n",
       "3                       0.0                   0.0                       0.0   \n",
       "4                       0.0                   0.0                       0.0   \n",
       "\n",
       "    target  Attack_type  \n",
       "0  normal.       normal  \n",
       "1  normal.       normal  \n",
       "2  normal.       normal  \n",
       "3  normal.       normal  \n",
       "4  normal.       normal  \n",
       "\n",
       "[5 rows x 43 columns]"
      ]
     },
     "execution_count": 15,
     "metadata": {},
     "output_type": "execute_result"
    }
   ],
   "source": [
    "df['Attack_type'] = df.target.apply(lambda r:attack_types[r[:-1]])\n",
    "df.head()"
   ]
  },
  {
   "cell_type": "code",
   "execution_count": 16,
   "id": "ad97c7af-178a-4b33-b6ce-38e2855aa4ad",
   "metadata": {},
   "outputs": [
    {
     "data": {
      "text/plain": [
       "5"
      ]
     },
     "execution_count": 16,
     "metadata": {},
     "output_type": "execute_result"
    }
   ],
   "source": [
    "df['Attack_type'].nunique()"
   ]
  },
  {
   "cell_type": "code",
   "execution_count": 17,
   "id": "4f352737-ec43-4364-af0d-31bf89b32283",
   "metadata": {},
   "outputs": [
    {
     "data": {
      "text/plain": [
       "array(['normal', 'u2r', 'dos', 'r2l', 'probe'], dtype=object)"
      ]
     },
     "execution_count": 17,
     "metadata": {},
     "output_type": "execute_result"
    }
   ],
   "source": [
    "df['Attack_type'].unique()"
   ]
  },
  {
   "cell_type": "markdown",
   "id": "6ff46009-db64-4862-94da-3f11f0a4ec49",
   "metadata": {},
   "source": [
    "**normal**: Just a normal -_-"
   ]
  },
  {
   "cell_type": "markdown",
   "id": "81a718f8-6c48-4575-bcde-8f41073318cb",
   "metadata": {},
   "source": [
    "**(DoS)**: is an attack meant to shut down a machine or network,\n",
    "making it inaccessible to its intended users"
   ]
  },
  {
   "cell_type": "markdown",
   "id": "b14ebc0e-3ccd-4db1-bbde-450eec314421",
   "metadata": {},
   "source": [
    "**(U2R)**: is an attack where hackers exploit some vulnerabilities to\n",
    "gain root access to the system"
   ]
  },
  {
   "cell_type": "markdown",
   "id": "a6c9ffd3-fdf7-45df-8c16-b172455d749c",
   "metadata": {},
   "source": [
    "**(R2L)**: occurs when the attacker finds vulnerable points in a\n",
    "computer or network security software to gain access to the machine or the system"
   ]
  },
  {
   "cell_type": "markdown",
   "id": "82d62db0-8fb9-42fd-9a39-8a0cfa68af94",
   "metadata": {},
   "source": [
    "**probe** is made to gather information on the targeted\n",
    "system"
   ]
  },
  {
   "cell_type": "code",
   "execution_count": 18,
   "id": "00472153-edb8-40e6-b78a-41aed11dffc9",
   "metadata": {},
   "outputs": [
    {
     "data": {
      "text/plain": [
       "dos       391458\n",
       "normal     97278\n",
       "probe       4107\n",
       "r2l         1126\n",
       "u2r           52\n",
       "Name: Attack_type, dtype: int64"
      ]
     },
     "execution_count": 18,
     "metadata": {},
     "output_type": "execute_result"
    }
   ],
   "source": [
    "df['Attack_type'].value_counts()"
   ]
  },
  {
   "cell_type": "code",
   "execution_count": 19,
   "id": "27f169c0-687c-4b72-b2a8-bea5211bbd61",
   "metadata": {},
   "outputs": [
    {
     "data": {
      "text/plain": [
       "(494021, 43)"
      ]
     },
     "execution_count": 19,
     "metadata": {},
     "output_type": "execute_result"
    }
   ],
   "source": [
    "df.shape"
   ]
  },
  {
   "cell_type": "code",
   "execution_count": 20,
   "id": "29f8f48c-7657-4210-880d-337b713028dd",
   "metadata": {},
   "outputs": [
    {
     "data": {
      "text/plain": [
       "duration                       0\n",
       "protocol_type                  0\n",
       "service                        0\n",
       "flag                           0\n",
       "src_bytes                      0\n",
       "dst_bytes                      0\n",
       "land                           0\n",
       "wrong_fragment                 0\n",
       "urgent                         0\n",
       "hot                            0\n",
       "num_failed_logins              0\n",
       "logged_in                      0\n",
       "num_compromised                0\n",
       "root_shell                     0\n",
       "su_attempted                   0\n",
       "num_root                       0\n",
       "num_file_creations             0\n",
       "num_shells                     0\n",
       "num_access_files               0\n",
       "num_outbound_cmds              0\n",
       "is_host_login                  0\n",
       "is_guest_login                 0\n",
       "count                          0\n",
       "srv_count                      0\n",
       "serror_rate                    0\n",
       "srv_serror_rate                0\n",
       "rerror_rate                    0\n",
       "srv_rerror_rate                0\n",
       "same_srv_rate                  0\n",
       "diff_srv_rate                  0\n",
       "srv_diff_host_rate             0\n",
       "dst_host_count                 0\n",
       "dst_host_srv_count             0\n",
       "dst_host_same_srv_rate         0\n",
       "dst_host_diff_srv_rate         0\n",
       "dst_host_same_src_port_rate    0\n",
       "dst_host_srv_diff_host_rate    0\n",
       "dst_host_serror_rate           0\n",
       "dst_host_srv_serror_rate       0\n",
       "dst_host_rerror_rate           0\n",
       "dst_host_srv_rerror_rate       0\n",
       "target                         0\n",
       "Attack_type                    0\n",
       "dtype: int64"
      ]
     },
     "execution_count": 20,
     "metadata": {},
     "output_type": "execute_result"
    }
   ],
   "source": [
    "df.isnull().sum()"
   ]
  },
  {
   "cell_type": "markdown",
   "id": "d4967537-a7e6-4d66-be1f-12a0c7aeb904",
   "metadata": {},
   "source": [
    "### zero Nulls :)"
   ]
  },
  {
   "cell_type": "markdown",
   "id": "2bca5e23-d3e0-4078-a2dc-1ab4134444ef",
   "metadata": {},
   "source": [
    "### Finding categorical features"
   ]
  },
  {
   "cell_type": "code",
   "execution_count": 21,
   "id": "10f4fb00-ba06-47bd-a37f-d693d49c5d87",
   "metadata": {},
   "outputs": [
    {
     "data": {
      "text/plain": [
       "['service', 'protocol_type', 'flag', 'target', 'Attack_type']"
      ]
     },
     "execution_count": 21,
     "metadata": {},
     "output_type": "execute_result"
    }
   ],
   "source": [
    "num_cols = df._get_numeric_data().columns\n",
    "\n",
    "cat_cols = list(set(df.columns) - set(num_cols))\n",
    "cat_cols"
   ]
  },
  {
   "cell_type": "markdown",
   "id": "680e7c90-f2f3-447d-a9ff-6b1c4f9454c5",
   "metadata": {},
   "source": [
    "### remove target and Attack type for now"
   ]
  },
  {
   "cell_type": "code",
   "execution_count": 22,
   "id": "46b43394-7327-44f4-b9fc-374b01bb5fba",
   "metadata": {},
   "outputs": [],
   "source": [
    "cat_cols.remove('target')\n",
    "cat_cols.remove('Attack_type')"
   ]
  },
  {
   "cell_type": "code",
   "execution_count": 23,
   "id": "b4f91e53-950c-4548-b357-5d9333230ba2",
   "metadata": {},
   "outputs": [
    {
     "data": {
      "text/plain": [
       "['service', 'protocol_type', 'flag']"
      ]
     },
     "execution_count": 23,
     "metadata": {},
     "output_type": "execute_result"
    }
   ],
   "source": [
    "cat_cols"
   ]
  },
  {
   "cell_type": "markdown",
   "id": "71e8420c-cde3-4616-ae34-e121272d9412",
   "metadata": {},
   "source": [
    "### Show our Categorical Distribution"
   ]
  },
  {
   "cell_type": "code",
   "execution_count": 24,
   "id": "fa62fc4a-01d1-418f-9ffb-200cc37618cf",
   "metadata": {},
   "outputs": [],
   "source": [
    "# Set a function for visualing a bar_char\n",
    "def bar_char(features):\n",
    "    df[features].value_counts().plot(kind= 'bar', color= 'teal')"
   ]
  },
  {
   "cell_type": "code",
   "execution_count": 25,
   "id": "7d335a1b-962a-4710-833f-b7f6ba2b24be",
   "metadata": {},
   "outputs": [
    {
     "data": {
      "image/png": "[encoded data removed]",
      "text/plain": [
       "<Figure size 432x288 with 1 Axes>"
      ]
     },
     "metadata": {
      "needs_background": "light"
     },
     "output_type": "display_data"
    }
   ],
   "source": [
    "bar_char('protocol_type')\n",
    "plt.xticks(rotation= 360);"
   ]
  },
  {
   "cell_type": "code",
   "execution_count": 26,
   "id": "4622003a-328c-43d2-85db-c39a7649168e",
   "metadata": {},
   "outputs": [
    {
     "data": {
      "image/png": "[encoded data removed]",
      "text/plain": [
       "<Figure size 1080x216 with 1 Axes>"
      ]
     },
     "metadata": {
      "needs_background": "light"
     },
     "output_type": "display_data"
    }
   ],
   "source": [
    "plt.figure(figsize= (15,3))\n",
    "bar_char('service')"
   ]
  },
  {
   "cell_type": "code",
   "execution_count": 27,
   "id": "48d7737c-8af3-4815-a422-f2c5e3dd45d1",
   "metadata": {},
   "outputs": [
    {
     "data": {
      "image/png": "[encoded data removed]",
      "text/plain": [
       "<Figure size 432x288 with 1 Axes>"
      ]
     },
     "metadata": {
      "needs_background": "light"
     },
     "output_type": "display_data"
    }
   ],
   "source": [
    "bar_char('flag')"
   ]
  },
  {
   "cell_type": "code",
   "execution_count": 28,
   "id": "d5e794db-7c77-408e-8eea-f04cb370293d",
   "metadata": {},
   "outputs": [
    {
     "data": {
      "image/png": "[encoded data removed]",
      "text/plain": [
       "<Figure size 432x288 with 1 Axes>"
      ]
     },
     "metadata": {
      "needs_background": "light"
     },
     "output_type": "display_data"
    }
   ],
   "source": [
    "# Look at looged colums 'binary'\n",
    "bar_char('logged_in')\n",
    "plt.xticks(rotation= 360);"
   ]
  },
  {
   "cell_type": "markdown",
   "id": "8a6d4019-3bd3-49ef-ac80-6f26117f49ea",
   "metadata": {},
   "source": [
    "logged_in (1 if successfully logged in; 0 otherwise)\n",
    "We **notice** that just 70000 packets are successfully logged in."
   ]
  },
  {
   "cell_type": "code",
   "execution_count": 29,
   "id": "efc84e40-0fdc-4c8e-b4e7-e72890ae1ad9",
   "metadata": {},
   "outputs": [
    {
     "data": {
      "image/png": "[encoded data removed]",
      "text/plain": [
       "<Figure size 432x288 with 1 Axes>"
      ]
     },
     "metadata": {
      "needs_background": "light"
     },
     "output_type": "display_data"
    }
   ],
   "source": [
    "# look at Attack_type features distribution\n",
    "bar_char('target')"
   ]
  },
  {
   "cell_type": "code",
   "execution_count": 30,
   "id": "bbde0bd3-a53d-4211-bf10-0bd0458d0a16",
   "metadata": {},
   "outputs": [
    {
     "data": {
      "image/png": "[encoded data removed]",
      "text/plain": [
       "<Figure size 432x288 with 1 Axes>"
      ]
     },
     "metadata": {
      "needs_background": "light"
     },
     "output_type": "display_data"
    }
   ],
   "source": [
    "bar_char('Attack_type')"
   ]
  },
  {
   "cell_type": "markdown",
   "id": "00e28bbd-2c4b-4de5-986a-81626d478dd5",
   "metadata": {},
   "source": [
    "## Looking at Correlation between columns"
   ]
  },
  {
   "cell_type": "code",
   "execution_count": 31,
   "id": "13f8b215-ceca-4119-a36f-282e150615e8",
   "metadata": {},
   "outputs": [
    {
     "data": {
      "image/png": "[encoded data removed]",
      "text/plain": [
       "<Figure size 1080x864 with 2 Axes>"
      ]
     },
     "metadata": {
      "needs_background": "light"
     },
     "output_type": "display_data"
    }
   ],
   "source": [
    "# drop columns with NaN\n",
    "df = df.dropna('columns')\n",
    "\n",
    "# keep columns where there are more than 1 unique values\n",
    "df = df[[col for col in df if df[col].nunique() > 1]]\n",
    "\n",
    "# set correlation\n",
    "corr = df.corr()\n",
    "\n",
    "# set figure size\n",
    "plt.figure(figsize=(15, 12))\n",
    "\n",
    "# Visualiz it with heatmap \n",
    "sea.heatmap(corr)\n",
    "\n",
    "plt.show()"
   ]
  },
  {
   "cell_type": "markdown",
   "id": "a2bb78fd-05c7-4242-9ebf-39e5e00222d1",
   "metadata": {},
   "source": [
    "### Look at some correlated columns"
   ]
  },
  {
   "cell_type": "code",
   "execution_count": 32,
   "id": "911d96ab-aac4-447d-a3c8-770d0d6ad4be",
   "metadata": {},
   "outputs": [
    {
     "data": {
      "text/plain": [
       "0.9938277978737942"
      ]
     },
     "execution_count": 32,
     "metadata": {},
     "output_type": "execute_result"
    }
   ],
   "source": [
    "df['num_root'].corr(df['num_compromised'])"
   ]
  },
  {
   "cell_type": "code",
   "execution_count": 33,
   "id": "150e1d50-82cc-4e2e-9c09-a8cfb881f0d5",
   "metadata": {},
   "outputs": [
    {
     "data": {
      "text/plain": [
       "0.9436670688882602"
      ]
     },
     "execution_count": 33,
     "metadata": {},
     "output_type": "execute_result"
    }
   ],
   "source": [
    "df['srv_count'].corr(df['count'])"
   ]
  },
  {
   "cell_type": "code",
   "execution_count": 34,
   "id": "bfa34c1c-bc8b-48cd-a582-1c983ef51221",
   "metadata": {},
   "outputs": [
    {
     "data": {
      "text/plain": [
       "0.998361507272552"
      ]
     },
     "execution_count": 34,
     "metadata": {},
     "output_type": "execute_result"
    }
   ],
   "source": [
    "df['srv_serror_rate'].corr(df['serror_rate'])"
   ]
  },
  {
   "cell_type": "code",
   "execution_count": 35,
   "id": "30f5669d-2ccc-44d9-9a73-fe674300307e",
   "metadata": {},
   "outputs": [
    {
     "data": {
      "text/plain": [
       "0.9947309539818258"
      ]
     },
     "execution_count": 35,
     "metadata": {},
     "output_type": "execute_result"
    }
   ],
   "source": [
    "df['srv_rerror_rate'].corr(df['rerror_rate'])"
   ]
  },
  {
   "cell_type": "code",
   "execution_count": 36,
   "id": "ad378513-f1d5-453f-a141-b2a9c8d6de39",
   "metadata": {},
   "outputs": [
    {
     "data": {
      "text/plain": [
       "0.9736854572954081"
      ]
     },
     "execution_count": 36,
     "metadata": {},
     "output_type": "execute_result"
    }
   ],
   "source": [
    "df['dst_host_same_srv_rate'].corr(df['dst_host_srv_count'])"
   ]
  },
  {
   "cell_type": "code",
   "execution_count": 37,
   "id": "c35eb4d9-9254-42c3-ac07-5301525a4d84",
   "metadata": {},
   "outputs": [
    {
     "data": {
      "text/plain": [
       "0.9981559173372515"
      ]
     },
     "execution_count": 37,
     "metadata": {},
     "output_type": "execute_result"
    }
   ],
   "source": [
    "df['dst_host_srv_serror_rate'].corr(df['dst_host_serror_rate'])"
   ]
  },
  {
   "cell_type": "code",
   "execution_count": 38,
   "id": "6dfcb3e9-9741-4ce9-adb2-f88002d3be80",
   "metadata": {},
   "outputs": [
    {
     "data": {
      "text/plain": [
       "0.9848038371110593"
      ]
     },
     "execution_count": 38,
     "metadata": {},
     "output_type": "execute_result"
    }
   ],
   "source": [
    "df['dst_host_srv_rerror_rate'].corr(df['dst_host_rerror_rate'])"
   ]
  },
  {
   "cell_type": "code",
   "execution_count": 39,
   "id": "7489d578-4966-49d2-b81f-4cf15773addd",
   "metadata": {},
   "outputs": [
    {
     "data": {
      "text/plain": [
       "0.927808034269101"
      ]
     },
     "execution_count": 39,
     "metadata": {},
     "output_type": "execute_result"
    }
   ],
   "source": [
    "df['dst_host_same_srv_rate'].corr(df['same_srv_rate'])"
   ]
  },
  {
   "cell_type": "code",
   "execution_count": 40,
   "id": "edf46ea6-fead-4494-9e1c-24fb5314215c",
   "metadata": {},
   "outputs": [
    {
     "data": {
      "text/plain": [
       "0.8989546630324231"
      ]
     },
     "execution_count": 40,
     "metadata": {},
     "output_type": "execute_result"
    }
   ],
   "source": [
    "df['dst_host_srv_count'].corr(df['same_srv_rate'])"
   ]
  },
  {
   "cell_type": "code",
   "execution_count": 41,
   "id": "6bd62d47-249e-4831-862c-4de8bc5ecdcc",
   "metadata": {},
   "outputs": [
    {
     "data": {
      "text/plain": [
       "0.9449263676783239"
      ]
     },
     "execution_count": 41,
     "metadata": {},
     "output_type": "execute_result"
    }
   ],
   "source": [
    "df['dst_host_same_src_port_rate'].corr(df['srv_count'])"
   ]
  },
  {
   "cell_type": "code",
   "execution_count": 42,
   "id": "4ec88ee5-d52e-4092-83f8-122d083a7e7d",
   "metadata": {},
   "outputs": [
    {
     "data": {
      "text/plain": [
       "0.998672968010501"
      ]
     },
     "execution_count": 42,
     "metadata": {},
     "output_type": "execute_result"
    }
   ],
   "source": [
    "df['dst_host_serror_rate'].corr(df['serror_rate'])"
   ]
  },
  {
   "cell_type": "code",
   "execution_count": 43,
   "id": "2349da4d-9fe2-4f93-9801-e724a060041e",
   "metadata": {},
   "outputs": [
    {
     "data": {
      "text/plain": [
       "0.997835300373953"
      ]
     },
     "execution_count": 43,
     "metadata": {},
     "output_type": "execute_result"
    }
   ],
   "source": [
    "df['dst_host_serror_rate'].corr(df['srv_serror_rate'])"
   ]
  },
  {
   "cell_type": "code",
   "execution_count": 44,
   "id": "6fceb678-8a64-4ee8-83da-28573c81ec35",
   "metadata": {},
   "outputs": [
    {
     "data": {
      "text/plain": [
       "0.9869947924955924"
      ]
     },
     "execution_count": 44,
     "metadata": {},
     "output_type": "execute_result"
    }
   ],
   "source": [
    "df['dst_host_rerror_rate'].corr(df['rerror_rate'])"
   ]
  },
  {
   "cell_type": "code",
   "execution_count": 45,
   "id": "e71466e7-a5f8-4cf5-b799-dfbaa8f43153",
   "metadata": {},
   "outputs": [
    {
     "data": {
      "text/plain": [
       "0.9821663427308904"
      ]
     },
     "execution_count": 45,
     "metadata": {},
     "output_type": "execute_result"
    }
   ],
   "source": [
    "df['dst_host_rerror_rate'].corr(df['srv_rerror_rate'])"
   ]
  },
  {
   "cell_type": "code",
   "execution_count": 46,
   "id": "36cfb06f-9b44-457f-bd5d-b0c744b59bec",
   "metadata": {},
   "outputs": [
    {
     "data": {
      "text/plain": [
       "0.9851995540751091"
      ]
     },
     "execution_count": 46,
     "metadata": {},
     "output_type": "execute_result"
    }
   ],
   "source": [
    "df['dst_host_srv_rerror_rate'].corr(df['rerror_rate'])"
   ]
  },
  {
   "cell_type": "code",
   "execution_count": 47,
   "id": "f5ebc328-9aac-45b1-b2c0-c62458e57213",
   "metadata": {},
   "outputs": [
    {
     "data": {
      "text/plain": [
       "0.9865705438845588"
      ]
     },
     "execution_count": 47,
     "metadata": {},
     "output_type": "execute_result"
    }
   ],
   "source": [
    "df['dst_host_srv_rerror_rate'].corr(df['srv_rerror_rate'])"
   ]
  },
  {
   "cell_type": "code",
   "execution_count": 48,
   "id": "4601c5d6-3085-4358-b635-588c9075422c",
   "metadata": {},
   "outputs": [
    {
     "data": {
      "text/plain": [
       "0.9978492485679238"
      ]
     },
     "execution_count": 48,
     "metadata": {},
     "output_type": "execute_result"
    }
   ],
   "source": [
    "df['dst_host_srv_serror_rate'].corr(df['serror_rate'])"
   ]
  },
  {
   "cell_type": "code",
   "execution_count": 49,
   "id": "d83271a5-362e-4cce-a659-e51e960ce4f9",
   "metadata": {},
   "outputs": [
    {
     "data": {
      "text/plain": [
       "0.9993041091850208"
      ]
     },
     "execution_count": 49,
     "metadata": {},
     "output_type": "execute_result"
    }
   ],
   "source": [
    "df['dst_host_srv_serror_rate'].corr(df['srv_serror_rate'])"
   ]
  },
  {
   "cell_type": "code",
   "execution_count": 50,
   "id": "e8f1886a-710d-4d58-ada3-abb0b7b6b643",
   "metadata": {},
   "outputs": [],
   "source": [
    "# The variable is highly correlated should be ignored for analysis.\n",
    "#corr: 0.99382\n",
    "df.drop('num_root', axis= 1, inplace= True)\n",
    "\n",
    "#corr: 0.99836\n",
    "df.drop('srv_serror_rate', axis= 1, inplace= True)\n",
    "\n",
    "#corr: 0.99473\n",
    "df.drop('srv_rerror_rate', axis= 1, inplace= True)\n",
    "\n",
    "#corr: 0.99815\n",
    "df.drop('dst_host_srv_serror_rate', axis= 1, inplace= True)\n",
    "\n",
    "#corr: 0.99867\n",
    "df.drop('dst_host_serror_rate', axis= 1, inplace= True)\n",
    "\n",
    "#corr: 0.98699\n",
    "df.drop('dst_host_rerror_rate', axis= 1, inplace= True)\n",
    "\n",
    "#corr: 0.98519\n",
    "df.drop('dst_host_srv_rerror_rate', axis= 1, inplace= True)\n",
    "\n",
    "#corr: 0.97368\n",
    "df.drop('dst_host_same_srv_rate', axis= 1, inplace= True)\n"
   ]
  },
  {
   "cell_type": "code",
   "execution_count": 51,
   "id": "b70a9c8f-3821-4bc0-b307-46a85c1ed562",
   "metadata": {},
   "outputs": [
    {
     "data": {
      "text/html": [
       "<div>\n",
       "<style scoped>\n",
       "    .dataframe tbody tr th:only-of-type {\n",
       "        vertical-align: middle;\n",
       "    }\n",
       "\n",
       "    .dataframe tbody tr th {\n",
       "        vertical-align: top;\n",
       "    }\n",
       "\n",
       "    .dataframe thead th {\n",
       "        text-align: right;\n",
       "    }\n",
       "</style>\n",
       "<table border=\"1\" class=\"dataframe\">\n",
       "  <thead>\n",
       "    <tr style=\"text-align: right;\">\n",
       "      <th></th>\n",
       "      <th>duration</th>\n",
       "      <th>protocol_type</th>\n",
       "      <th>service</th>\n",
       "      <th>flag</th>\n",
       "      <th>src_bytes</th>\n",
       "      <th>dst_bytes</th>\n",
       "      <th>land</th>\n",
       "      <th>wrong_fragment</th>\n",
       "      <th>urgent</th>\n",
       "      <th>hot</th>\n",
       "      <th>...</th>\n",
       "      <th>same_srv_rate</th>\n",
       "      <th>diff_srv_rate</th>\n",
       "      <th>srv_diff_host_rate</th>\n",
       "      <th>dst_host_count</th>\n",
       "      <th>dst_host_srv_count</th>\n",
       "      <th>dst_host_diff_srv_rate</th>\n",
       "      <th>dst_host_same_src_port_rate</th>\n",
       "      <th>dst_host_srv_diff_host_rate</th>\n",
       "      <th>target</th>\n",
       "      <th>Attack_type</th>\n",
       "    </tr>\n",
       "  </thead>\n",
       "  <tbody>\n",
       "    <tr>\n",
       "      <th>0</th>\n",
       "      <td>0</td>\n",
       "      <td>tcp</td>\n",
       "      <td>http</td>\n",
       "      <td>SF</td>\n",
       "      <td>181</td>\n",
       "      <td>5450</td>\n",
       "      <td>0</td>\n",
       "      <td>0</td>\n",
       "      <td>0</td>\n",
       "      <td>0</td>\n",
       "      <td>...</td>\n",
       "      <td>1.0</td>\n",
       "      <td>0.0</td>\n",
       "      <td>0.0</td>\n",
       "      <td>9</td>\n",
       "      <td>9</td>\n",
       "      <td>0.0</td>\n",
       "      <td>0.11</td>\n",
       "      <td>0.0</td>\n",
       "      <td>normal.</td>\n",
       "      <td>normal</td>\n",
       "    </tr>\n",
       "    <tr>\n",
       "      <th>1</th>\n",
       "      <td>0</td>\n",
       "      <td>tcp</td>\n",
       "      <td>http</td>\n",
       "      <td>SF</td>\n",
       "      <td>239</td>\n",
       "      <td>486</td>\n",
       "      <td>0</td>\n",
       "      <td>0</td>\n",
       "      <td>0</td>\n",
       "      <td>0</td>\n",
       "      <td>...</td>\n",
       "      <td>1.0</td>\n",
       "      <td>0.0</td>\n",
       "      <td>0.0</td>\n",
       "      <td>19</td>\n",
       "      <td>19</td>\n",
       "      <td>0.0</td>\n",
       "      <td>0.05</td>\n",
       "      <td>0.0</td>\n",
       "      <td>normal.</td>\n",
       "      <td>normal</td>\n",
       "    </tr>\n",
       "    <tr>\n",
       "      <th>2</th>\n",
       "      <td>0</td>\n",
       "      <td>tcp</td>\n",
       "      <td>http</td>\n",
       "      <td>SF</td>\n",
       "      <td>235</td>\n",
       "      <td>1337</td>\n",
       "      <td>0</td>\n",
       "      <td>0</td>\n",
       "      <td>0</td>\n",
       "      <td>0</td>\n",
       "      <td>...</td>\n",
       "      <td>1.0</td>\n",
       "      <td>0.0</td>\n",
       "      <td>0.0</td>\n",
       "      <td>29</td>\n",
       "      <td>29</td>\n",
       "      <td>0.0</td>\n",
       "      <td>0.03</td>\n",
       "      <td>0.0</td>\n",
       "      <td>normal.</td>\n",
       "      <td>normal</td>\n",
       "    </tr>\n",
       "    <tr>\n",
       "      <th>3</th>\n",
       "      <td>0</td>\n",
       "      <td>tcp</td>\n",
       "      <td>http</td>\n",
       "      <td>SF</td>\n",
       "      <td>219</td>\n",
       "      <td>1337</td>\n",
       "      <td>0</td>\n",
       "      <td>0</td>\n",
       "      <td>0</td>\n",
       "      <td>0</td>\n",
       "      <td>...</td>\n",
       "      <td>1.0</td>\n",
       "      <td>0.0</td>\n",
       "      <td>0.0</td>\n",
       "      <td>39</td>\n",
       "      <td>39</td>\n",
       "      <td>0.0</td>\n",
       "      <td>0.03</td>\n",
       "      <td>0.0</td>\n",
       "      <td>normal.</td>\n",
       "      <td>normal</td>\n",
       "    </tr>\n",
       "    <tr>\n",
       "      <th>4</th>\n",
       "      <td>0</td>\n",
       "      <td>tcp</td>\n",
       "      <td>http</td>\n",
       "      <td>SF</td>\n",
       "      <td>217</td>\n",
       "      <td>2032</td>\n",
       "      <td>0</td>\n",
       "      <td>0</td>\n",
       "      <td>0</td>\n",
       "      <td>0</td>\n",
       "      <td>...</td>\n",
       "      <td>1.0</td>\n",
       "      <td>0.0</td>\n",
       "      <td>0.0</td>\n",
       "      <td>49</td>\n",
       "      <td>49</td>\n",
       "      <td>0.0</td>\n",
       "      <td>0.02</td>\n",
       "      <td>0.0</td>\n",
       "      <td>normal.</td>\n",
       "      <td>normal</td>\n",
       "    </tr>\n",
       "  </tbody>\n",
       "</table>\n",
       "<p>5 rows × 33 columns</p>\n",
       "</div>"
      ],
      "text/plain": [
       "   duration protocol_type service flag  src_bytes  dst_bytes  land  \\\n",
       "0         0           tcp    http   SF        181       5450     0   \n",
       "1         0           tcp    http   SF        239        486     0   \n",
       "2         0           tcp    http   SF        235       1337     0   \n",
       "3         0           tcp    http   SF        219       1337     0   \n",
       "4         0           tcp    http   SF        217       2032     0   \n",
       "\n",
       "   wrong_fragment  urgent  hot  ...  same_srv_rate  diff_srv_rate  \\\n",
       "0               0       0    0  ...            1.0            0.0   \n",
       "1               0       0    0  ...            1.0            0.0   \n",
       "2               0       0    0  ...            1.0            0.0   \n",
       "3               0       0    0  ...            1.0            0.0   \n",
       "4               0       0    0  ...            1.0            0.0   \n",
       "\n",
       "   srv_diff_host_rate  dst_host_count  dst_host_srv_count  \\\n",
       "0                 0.0               9                   9   \n",
       "1                 0.0              19                  19   \n",
       "2                 0.0              29                  29   \n",
       "3                 0.0              39                  39   \n",
       "4                 0.0              49                  49   \n",
       "\n",
       "   dst_host_diff_srv_rate  dst_host_same_src_port_rate  \\\n",
       "0                     0.0                         0.11   \n",
       "1                     0.0                         0.05   \n",
       "2                     0.0                         0.03   \n",
       "3                     0.0                         0.03   \n",
       "4                     0.0                         0.02   \n",
       "\n",
       "   dst_host_srv_diff_host_rate   target  Attack_type  \n",
       "0                          0.0  normal.       normal  \n",
       "1                          0.0  normal.       normal  \n",
       "2                          0.0  normal.       normal  \n",
       "3                          0.0  normal.       normal  \n",
       "4                          0.0  normal.       normal  \n",
       "\n",
       "[5 rows x 33 columns]"
      ]
     },
     "execution_count": 51,
     "metadata": {},
     "output_type": "execute_result"
    }
   ],
   "source": [
    "df.head()"
   ]
  },
  {
   "cell_type": "code",
   "execution_count": 52,
   "id": "0c26354b-e5d0-4db7-be68-03b2e576566b",
   "metadata": {},
   "outputs": [
    {
     "data": {
      "text/plain": [
       "urgent                              0.005510\n",
       "land                                0.006673\n",
       "su_attempted                        0.007793\n",
       "root_shell                          0.010551\n",
       "num_shells                          0.011020\n",
       "num_failed_logins                   0.015520\n",
       "num_access_files                    0.036482\n",
       "is_guest_login                      0.037211\n",
       "dst_host_srv_diff_host_rate         0.042133\n",
       "diff_srv_rate                       0.082205\n",
       "num_file_creations                  0.096416\n",
       "dst_host_diff_srv_rate              0.109259\n",
       "wrong_fragment                      0.134805\n",
       "srv_diff_host_rate                  0.142397\n",
       "rerror_rate                         0.231623\n",
       "logged_in                           0.355345\n",
       "serror_rate                         0.380717\n",
       "same_srv_rate                       0.388189\n",
       "dst_host_same_src_port_rate         0.481309\n",
       "hot                                 0.782103\n",
       "num_compromised                     1.798326\n",
       "dst_host_count                     64.745380\n",
       "dst_host_srv_count                106.040437\n",
       "count                             213.147412\n",
       "srv_count                         246.322817\n",
       "duration                          707.746472\n",
       "dst_bytes                       33040.001252\n",
       "src_bytes                      988218.101045\n",
       "dtype: float64"
      ]
     },
     "execution_count": 52,
     "metadata": {},
     "output_type": "execute_result"
    }
   ],
   "source": [
    "# Calculate standard dev for dataframe\n",
    "df_std= df.std()\n",
    "df_std= df_std.sort_values(ascending= True)\n",
    "df_std"
   ]
  },
  {
   "cell_type": "markdown",
   "id": "3e396622-b2db-431c-b47d-b3913d4a28ff",
   "metadata": {},
   "source": [
    "## Feature Mapping"
   ]
  },
  {
   "cell_type": "code",
   "execution_count": 53,
   "id": "0394019f-1318-40ff-95a8-02a2cd9cf0c7",
   "metadata": {},
   "outputs": [
    {
     "data": {
      "text/plain": [
       "udp      20354\n",
       "tcp     190065\n",
       "icmp    283602\n",
       "Name: protocol_type, dtype: int64"
      ]
     },
     "execution_count": 53,
     "metadata": {},
     "output_type": "execute_result"
    }
   ],
   "source": [
    "# look at protocol types\n",
    "df['protocol_type'].value_counts().sort_values()"
   ]
  },
  {
   "cell_type": "code",
   "execution_count": 54,
   "id": "3e0f9b44-3e4e-401b-9741-2cffb81edb73",
   "metadata": {},
   "outputs": [],
   "source": [
    "# Set feature mapping for protocols\n",
    "pro_map = {'udp': 0, 'tcp': 1, 'icmp': 2}\n",
    "df['protocol_type'] = df['protocol_type'].map(pro_map)"
   ]
  },
  {
   "cell_type": "code",
   "execution_count": 55,
   "id": "4db22a5c-2f71-4a70-94cd-f3b836bc8c52",
   "metadata": {},
   "outputs": [
    {
     "data": {
      "text/html": [
       "<div>\n",
       "<style scoped>\n",
       "    .dataframe tbody tr th:only-of-type {\n",
       "        vertical-align: middle;\n",
       "    }\n",
       "\n",
       "    .dataframe tbody tr th {\n",
       "        vertical-align: top;\n",
       "    }\n",
       "\n",
       "    .dataframe thead th {\n",
       "        text-align: right;\n",
       "    }\n",
       "</style>\n",
       "<table border=\"1\" class=\"dataframe\">\n",
       "  <thead>\n",
       "    <tr style=\"text-align: right;\">\n",
       "      <th></th>\n",
       "      <th>duration</th>\n",
       "      <th>protocol_type</th>\n",
       "      <th>service</th>\n",
       "      <th>flag</th>\n",
       "      <th>src_bytes</th>\n",
       "      <th>dst_bytes</th>\n",
       "      <th>land</th>\n",
       "      <th>wrong_fragment</th>\n",
       "      <th>urgent</th>\n",
       "      <th>hot</th>\n",
       "      <th>...</th>\n",
       "      <th>same_srv_rate</th>\n",
       "      <th>diff_srv_rate</th>\n",
       "      <th>srv_diff_host_rate</th>\n",
       "      <th>dst_host_count</th>\n",
       "      <th>dst_host_srv_count</th>\n",
       "      <th>dst_host_diff_srv_rate</th>\n",
       "      <th>dst_host_same_src_port_rate</th>\n",
       "      <th>dst_host_srv_diff_host_rate</th>\n",
       "      <th>target</th>\n",
       "      <th>Attack_type</th>\n",
       "    </tr>\n",
       "  </thead>\n",
       "  <tbody>\n",
       "    <tr>\n",
       "      <th>0</th>\n",
       "      <td>0</td>\n",
       "      <td>1</td>\n",
       "      <td>http</td>\n",
       "      <td>SF</td>\n",
       "      <td>181</td>\n",
       "      <td>5450</td>\n",
       "      <td>0</td>\n",
       "      <td>0</td>\n",
       "      <td>0</td>\n",
       "      <td>0</td>\n",
       "      <td>...</td>\n",
       "      <td>1.0</td>\n",
       "      <td>0.0</td>\n",
       "      <td>0.0</td>\n",
       "      <td>9</td>\n",
       "      <td>9</td>\n",
       "      <td>0.0</td>\n",
       "      <td>0.11</td>\n",
       "      <td>0.0</td>\n",
       "      <td>normal.</td>\n",
       "      <td>normal</td>\n",
       "    </tr>\n",
       "    <tr>\n",
       "      <th>1</th>\n",
       "      <td>0</td>\n",
       "      <td>1</td>\n",
       "      <td>http</td>\n",
       "      <td>SF</td>\n",
       "      <td>239</td>\n",
       "      <td>486</td>\n",
       "      <td>0</td>\n",
       "      <td>0</td>\n",
       "      <td>0</td>\n",
       "      <td>0</td>\n",
       "      <td>...</td>\n",
       "      <td>1.0</td>\n",
       "      <td>0.0</td>\n",
       "      <td>0.0</td>\n",
       "      <td>19</td>\n",
       "      <td>19</td>\n",
       "      <td>0.0</td>\n",
       "      <td>0.05</td>\n",
       "      <td>0.0</td>\n",
       "      <td>normal.</td>\n",
       "      <td>normal</td>\n",
       "    </tr>\n",
       "    <tr>\n",
       "      <th>2</th>\n",
       "      <td>0</td>\n",
       "      <td>1</td>\n",
       "      <td>http</td>\n",
       "      <td>SF</td>\n",
       "      <td>235</td>\n",
       "      <td>1337</td>\n",
       "      <td>0</td>\n",
       "      <td>0</td>\n",
       "      <td>0</td>\n",
       "      <td>0</td>\n",
       "      <td>...</td>\n",
       "      <td>1.0</td>\n",
       "      <td>0.0</td>\n",
       "      <td>0.0</td>\n",
       "      <td>29</td>\n",
       "      <td>29</td>\n",
       "      <td>0.0</td>\n",
       "      <td>0.03</td>\n",
       "      <td>0.0</td>\n",
       "      <td>normal.</td>\n",
       "      <td>normal</td>\n",
       "    </tr>\n",
       "    <tr>\n",
       "      <th>3</th>\n",
       "      <td>0</td>\n",
       "      <td>1</td>\n",
       "      <td>http</td>\n",
       "      <td>SF</td>\n",
       "      <td>219</td>\n",
       "      <td>1337</td>\n",
       "      <td>0</td>\n",
       "      <td>0</td>\n",
       "      <td>0</td>\n",
       "      <td>0</td>\n",
       "      <td>...</td>\n",
       "      <td>1.0</td>\n",
       "      <td>0.0</td>\n",
       "      <td>0.0</td>\n",
       "      <td>39</td>\n",
       "      <td>39</td>\n",
       "      <td>0.0</td>\n",
       "      <td>0.03</td>\n",
       "      <td>0.0</td>\n",
       "      <td>normal.</td>\n",
       "      <td>normal</td>\n",
       "    </tr>\n",
       "    <tr>\n",
       "      <th>4</th>\n",
       "      <td>0</td>\n",
       "      <td>1</td>\n",
       "      <td>http</td>\n",
       "      <td>SF</td>\n",
       "      <td>217</td>\n",
       "      <td>2032</td>\n",
       "      <td>0</td>\n",
       "      <td>0</td>\n",
       "      <td>0</td>\n",
       "      <td>0</td>\n",
       "      <td>...</td>\n",
       "      <td>1.0</td>\n",
       "      <td>0.0</td>\n",
       "      <td>0.0</td>\n",
       "      <td>49</td>\n",
       "      <td>49</td>\n",
       "      <td>0.0</td>\n",
       "      <td>0.02</td>\n",
       "      <td>0.0</td>\n",
       "      <td>normal.</td>\n",
       "      <td>normal</td>\n",
       "    </tr>\n",
       "  </tbody>\n",
       "</table>\n",
       "<p>5 rows × 33 columns</p>\n",
       "</div>"
      ],
      "text/plain": [
       "   duration  protocol_type service flag  src_bytes  dst_bytes  land  \\\n",
       "0         0              1    http   SF        181       5450     0   \n",
       "1         0              1    http   SF        239        486     0   \n",
       "2         0              1    http   SF        235       1337     0   \n",
       "3         0              1    http   SF        219       1337     0   \n",
       "4         0              1    http   SF        217       2032     0   \n",
       "\n",
       "   wrong_fragment  urgent  hot  ...  same_srv_rate  diff_srv_rate  \\\n",
       "0               0       0    0  ...            1.0            0.0   \n",
       "1               0       0    0  ...            1.0            0.0   \n",
       "2               0       0    0  ...            1.0            0.0   \n",
       "3               0       0    0  ...            1.0            0.0   \n",
       "4               0       0    0  ...            1.0            0.0   \n",
       "\n",
       "   srv_diff_host_rate  dst_host_count  dst_host_srv_count  \\\n",
       "0                 0.0               9                   9   \n",
       "1                 0.0              19                  19   \n",
       "2                 0.0              29                  29   \n",
       "3                 0.0              39                  39   \n",
       "4                 0.0              49                  49   \n",
       "\n",
       "   dst_host_diff_srv_rate  dst_host_same_src_port_rate  \\\n",
       "0                     0.0                         0.11   \n",
       "1                     0.0                         0.05   \n",
       "2                     0.0                         0.03   \n",
       "3                     0.0                         0.03   \n",
       "4                     0.0                         0.02   \n",
       "\n",
       "   dst_host_srv_diff_host_rate   target  Attack_type  \n",
       "0                          0.0  normal.       normal  \n",
       "1                          0.0  normal.       normal  \n",
       "2                          0.0  normal.       normal  \n",
       "3                          0.0  normal.       normal  \n",
       "4                          0.0  normal.       normal  \n",
       "\n",
       "[5 rows x 33 columns]"
      ]
     },
     "execution_count": 55,
     "metadata": {},
     "output_type": "execute_result"
    }
   ],
   "source": [
    "df.head()"
   ]
  },
  {
   "cell_type": "code",
   "execution_count": 56,
   "id": "454a9e24-9383-43cf-a50a-e10a2cf2762b",
   "metadata": {},
   "outputs": [
    {
     "data": {
      "text/plain": [
       "array([1, 0, 2], dtype=int64)"
      ]
     },
     "execution_count": 56,
     "metadata": {},
     "output_type": "execute_result"
    }
   ],
   "source": [
    "df['protocol_type'].unique()"
   ]
  },
  {
   "cell_type": "code",
   "execution_count": 57,
   "id": "d9c75b05-7ed4-49dd-90ce-9d3810e91332",
   "metadata": {},
   "outputs": [
    {
     "data": {
      "text/plain": [
       "OTH            8\n",
       "S3            10\n",
       "RSTOS0        11\n",
       "S2            24\n",
       "S1            57\n",
       "SH           107\n",
       "RSTO         579\n",
       "RSTR         903\n",
       "REJ        26875\n",
       "S0         87007\n",
       "SF        378440\n",
       "Name: flag, dtype: int64"
      ]
     },
     "execution_count": 57,
     "metadata": {},
     "output_type": "execute_result"
    }
   ],
   "source": [
    "# look at falgs \n",
    "df['flag'].value_counts().sort_values()"
   ]
  },
  {
   "cell_type": "code",
   "execution_count": 58,
   "id": "c59fbe48-ca5f-4f32-b386-ac4d2f077938",
   "metadata": {},
   "outputs": [],
   "source": [
    "# Set feature mapping for flags\n",
    "flag_map = {'OTH': 0, 'S3': 1, 'RSTOS0': 2, 'S2': 3, 'S1': 4, 'SH': 5,\n",
    "           'RSTO': 6, 'RSTR': 7, 'REJ': 8, 'S0': 9, 'SF': 10}\n",
    "df['flag'] = df['flag'].map(flag_map)"
   ]
  },
  {
   "cell_type": "code",
   "execution_count": 59,
   "id": "e6dd9456-8507-43d7-ad0e-79fd4fcf392f",
   "metadata": {},
   "outputs": [
    {
     "data": {
      "text/html": [
       "<div>\n",
       "<style scoped>\n",
       "    .dataframe tbody tr th:only-of-type {\n",
       "        vertical-align: middle;\n",
       "    }\n",
       "\n",
       "    .dataframe tbody tr th {\n",
       "        vertical-align: top;\n",
       "    }\n",
       "\n",
       "    .dataframe thead th {\n",
       "        text-align: right;\n",
       "    }\n",
       "</style>\n",
       "<table border=\"1\" class=\"dataframe\">\n",
       "  <thead>\n",
       "    <tr style=\"text-align: right;\">\n",
       "      <th></th>\n",
       "      <th>duration</th>\n",
       "      <th>protocol_type</th>\n",
       "      <th>service</th>\n",
       "      <th>flag</th>\n",
       "      <th>src_bytes</th>\n",
       "      <th>dst_bytes</th>\n",
       "      <th>land</th>\n",
       "      <th>wrong_fragment</th>\n",
       "      <th>urgent</th>\n",
       "      <th>hot</th>\n",
       "      <th>...</th>\n",
       "      <th>same_srv_rate</th>\n",
       "      <th>diff_srv_rate</th>\n",
       "      <th>srv_diff_host_rate</th>\n",
       "      <th>dst_host_count</th>\n",
       "      <th>dst_host_srv_count</th>\n",
       "      <th>dst_host_diff_srv_rate</th>\n",
       "      <th>dst_host_same_src_port_rate</th>\n",
       "      <th>dst_host_srv_diff_host_rate</th>\n",
       "      <th>target</th>\n",
       "      <th>Attack_type</th>\n",
       "    </tr>\n",
       "  </thead>\n",
       "  <tbody>\n",
       "    <tr>\n",
       "      <th>0</th>\n",
       "      <td>0</td>\n",
       "      <td>1</td>\n",
       "      <td>http</td>\n",
       "      <td>10</td>\n",
       "      <td>181</td>\n",
       "      <td>5450</td>\n",
       "      <td>0</td>\n",
       "      <td>0</td>\n",
       "      <td>0</td>\n",
       "      <td>0</td>\n",
       "      <td>...</td>\n",
       "      <td>1.0</td>\n",
       "      <td>0.0</td>\n",
       "      <td>0.0</td>\n",
       "      <td>9</td>\n",
       "      <td>9</td>\n",
       "      <td>0.0</td>\n",
       "      <td>0.11</td>\n",
       "      <td>0.0</td>\n",
       "      <td>normal.</td>\n",
       "      <td>normal</td>\n",
       "    </tr>\n",
       "    <tr>\n",
       "      <th>1</th>\n",
       "      <td>0</td>\n",
       "      <td>1</td>\n",
       "      <td>http</td>\n",
       "      <td>10</td>\n",
       "      <td>239</td>\n",
       "      <td>486</td>\n",
       "      <td>0</td>\n",
       "      <td>0</td>\n",
       "      <td>0</td>\n",
       "      <td>0</td>\n",
       "      <td>...</td>\n",
       "      <td>1.0</td>\n",
       "      <td>0.0</td>\n",
       "      <td>0.0</td>\n",
       "      <td>19</td>\n",
       "      <td>19</td>\n",
       "      <td>0.0</td>\n",
       "      <td>0.05</td>\n",
       "      <td>0.0</td>\n",
       "      <td>normal.</td>\n",
       "      <td>normal</td>\n",
       "    </tr>\n",
       "    <tr>\n",
       "      <th>2</th>\n",
       "      <td>0</td>\n",
       "      <td>1</td>\n",
       "      <td>http</td>\n",
       "      <td>10</td>\n",
       "      <td>235</td>\n",
       "      <td>1337</td>\n",
       "      <td>0</td>\n",
       "      <td>0</td>\n",
       "      <td>0</td>\n",
       "      <td>0</td>\n",
       "      <td>...</td>\n",
       "      <td>1.0</td>\n",
       "      <td>0.0</td>\n",
       "      <td>0.0</td>\n",
       "      <td>29</td>\n",
       "      <td>29</td>\n",
       "      <td>0.0</td>\n",
       "      <td>0.03</td>\n",
       "      <td>0.0</td>\n",
       "      <td>normal.</td>\n",
       "      <td>normal</td>\n",
       "    </tr>\n",
       "    <tr>\n",
       "      <th>3</th>\n",
       "      <td>0</td>\n",
       "      <td>1</td>\n",
       "      <td>http</td>\n",
       "      <td>10</td>\n",
       "      <td>219</td>\n",
       "      <td>1337</td>\n",
       "      <td>0</td>\n",
       "      <td>0</td>\n",
       "      <td>0</td>\n",
       "      <td>0</td>\n",
       "      <td>...</td>\n",
       "      <td>1.0</td>\n",
       "      <td>0.0</td>\n",
       "      <td>0.0</td>\n",
       "      <td>39</td>\n",
       "      <td>39</td>\n",
       "      <td>0.0</td>\n",
       "      <td>0.03</td>\n",
       "      <td>0.0</td>\n",
       "      <td>normal.</td>\n",
       "      <td>normal</td>\n",
       "    </tr>\n",
       "    <tr>\n",
       "      <th>4</th>\n",
       "      <td>0</td>\n",
       "      <td>1</td>\n",
       "      <td>http</td>\n",
       "      <td>10</td>\n",
       "      <td>217</td>\n",
       "      <td>2032</td>\n",
       "      <td>0</td>\n",
       "      <td>0</td>\n",
       "      <td>0</td>\n",
       "      <td>0</td>\n",
       "      <td>...</td>\n",
       "      <td>1.0</td>\n",
       "      <td>0.0</td>\n",
       "      <td>0.0</td>\n",
       "      <td>49</td>\n",
       "      <td>49</td>\n",
       "      <td>0.0</td>\n",
       "      <td>0.02</td>\n",
       "      <td>0.0</td>\n",
       "      <td>normal.</td>\n",
       "      <td>normal</td>\n",
       "    </tr>\n",
       "  </tbody>\n",
       "</table>\n",
       "<p>5 rows × 33 columns</p>\n",
       "</div>"
      ],
      "text/plain": [
       "   duration  protocol_type service  flag  src_bytes  dst_bytes  land  \\\n",
       "0         0              1    http    10        181       5450     0   \n",
       "1         0              1    http    10        239        486     0   \n",
       "2         0              1    http    10        235       1337     0   \n",
       "3         0              1    http    10        219       1337     0   \n",
       "4         0              1    http    10        217       2032     0   \n",
       "\n",
       "   wrong_fragment  urgent  hot  ...  same_srv_rate  diff_srv_rate  \\\n",
       "0               0       0    0  ...            1.0            0.0   \n",
       "1               0       0    0  ...            1.0            0.0   \n",
       "2               0       0    0  ...            1.0            0.0   \n",
       "3               0       0    0  ...            1.0            0.0   \n",
       "4               0       0    0  ...            1.0            0.0   \n",
       "\n",
       "   srv_diff_host_rate  dst_host_count  dst_host_srv_count  \\\n",
       "0                 0.0               9                   9   \n",
       "1                 0.0              19                  19   \n",
       "2                 0.0              29                  29   \n",
       "3                 0.0              39                  39   \n",
       "4                 0.0              49                  49   \n",
       "\n",
       "   dst_host_diff_srv_rate  dst_host_same_src_port_rate  \\\n",
       "0                     0.0                         0.11   \n",
       "1                     0.0                         0.05   \n",
       "2                     0.0                         0.03   \n",
       "3                     0.0                         0.03   \n",
       "4                     0.0                         0.02   \n",
       "\n",
       "   dst_host_srv_diff_host_rate   target  Attack_type  \n",
       "0                          0.0  normal.       normal  \n",
       "1                          0.0  normal.       normal  \n",
       "2                          0.0  normal.       normal  \n",
       "3                          0.0  normal.       normal  \n",
       "4                          0.0  normal.       normal  \n",
       "\n",
       "[5 rows x 33 columns]"
      ]
     },
     "execution_count": 59,
     "metadata": {},
     "output_type": "execute_result"
    }
   ],
   "source": [
    "df.head()"
   ]
  },
  {
   "cell_type": "code",
   "execution_count": 60,
   "id": "4522d9f5-f07d-4182-8975-8ba1112907cd",
   "metadata": {},
   "outputs": [
    {
     "data": {
      "text/plain": [
       "array([10,  4,  8,  3,  9,  1,  6,  7,  2,  0,  5], dtype=int64)"
      ]
     },
     "execution_count": 60,
     "metadata": {},
     "output_type": "execute_result"
    }
   ],
   "source": [
    "df['flag'].unique()"
   ]
  },
  {
   "cell_type": "code",
   "execution_count": 61,
   "id": "54eacdf7-9389-45c9-98f5-268386333dc1",
   "metadata": {},
   "outputs": [],
   "source": [
    "# we can ignore column of 'service' for now he is not usefull right in our case\n",
    "df.drop('service', axis= 1, inplace= True)"
   ]
  },
  {
   "cell_type": "code",
   "execution_count": 62,
   "id": "3ad9d7f6-ed88-4949-8983-676861d0912a",
   "metadata": {},
   "outputs": [
    {
     "data": {
      "text/plain": [
       "(494021, 32)"
      ]
     },
     "execution_count": 62,
     "metadata": {},
     "output_type": "execute_result"
    }
   ],
   "source": [
    "df.shape"
   ]
  },
  {
   "cell_type": "code",
   "execution_count": 63,
   "id": "a2e2b0a1-f363-4ee9-9fcf-c8b41025c5a2",
   "metadata": {},
   "outputs": [
    {
     "data": {
      "text/plain": [
       "duration                         int64\n",
       "protocol_type                    int64\n",
       "flag                             int64\n",
       "src_bytes                        int64\n",
       "dst_bytes                        int64\n",
       "land                             int64\n",
       "wrong_fragment                   int64\n",
       "urgent                           int64\n",
       "hot                              int64\n",
       "num_failed_logins                int64\n",
       "logged_in                        int64\n",
       "num_compromised                  int64\n",
       "root_shell                       int64\n",
       "su_attempted                     int64\n",
       "num_file_creations               int64\n",
       "num_shells                       int64\n",
       "num_access_files                 int64\n",
       "is_guest_login                   int64\n",
       "count                            int64\n",
       "srv_count                        int64\n",
       "serror_rate                    float64\n",
       "rerror_rate                    float64\n",
       "same_srv_rate                  float64\n",
       "diff_srv_rate                  float64\n",
       "srv_diff_host_rate             float64\n",
       "dst_host_count                   int64\n",
       "dst_host_srv_count               int64\n",
       "dst_host_diff_srv_rate         float64\n",
       "dst_host_same_src_port_rate    float64\n",
       "dst_host_srv_diff_host_rate    float64\n",
       "target                          object\n",
       "Attack_type                     object\n",
       "dtype: object"
      ]
     },
     "execution_count": 63,
     "metadata": {},
     "output_type": "execute_result"
    }
   ],
   "source": [
    "df.dtypes"
   ]
  },
  {
   "cell_type": "markdown",
   "id": "09aee19c-434a-4cb9-a4bf-e71918e8396f",
   "metadata": {},
   "source": [
    "### allright data types now Fine !"
   ]
  },
  {
   "cell_type": "markdown",
   "id": "b5ce12da-bd29-49ec-b9a6-56771e153faa",
   "metadata": {},
   "source": [
    "# Modeling "
   ]
  },
  {
   "cell_type": "code",
   "execution_count": 64,
   "id": "8c02ec7b-cd91-4d68-b761-fd50a5c62332",
   "metadata": {},
   "outputs": [],
   "source": [
    "# import required modules\n",
    "from sklearn.model_selection import train_test_split\n",
    "from sklearn.preprocessing import MinMaxScaler\n",
    "from sklearn.metrics import accuracy_score"
   ]
  },
  {
   "cell_type": "code",
   "execution_count": 65,
   "id": "549752af-88bb-4144-adc7-eb23f09f30c6",
   "metadata": {},
   "outputs": [
    {
     "name": "stdout",
     "output_type": "stream",
     "text": [
      "(494021, 31)\n",
      "(330994, 30) (163027, 30)\n",
      "(330994, 1) (163027, 1)\n"
     ]
    }
   ],
   "source": [
    "# Handle our dataset\n",
    "df= df.drop(['target',], axis= 1)\n",
    "print(df.shape)\n",
    "\n",
    "# Target variable and train set\n",
    "y = df[['Attack_type']]\n",
    "X = df.drop(['Attack_type', ], axis= 1)\n",
    "\n",
    "# Standard Scalar\n",
    "sc = MinMaxScaler()\n",
    "X = sc.fit_transform(X)\n",
    "\n",
    "# Split to test and train data\n",
    "X_train, X_test, y_train, y_test= train_test_split(X, y, test_size= 0.33, random_state= 42)\n",
    "print(X_train.shape, X_test.shape)\n",
    "print(y_train.shape, y_test.shape)"
   ]
  },
  {
   "cell_type": "markdown",
   "id": "ba4cbbbf-0c97-47cb-a991-3c9b01673444",
   "metadata": {},
   "source": [
    "#### Now we need to fixed imbalance classes berfore apply our algorithms to rich out the best.\n",
    "https://imbalanced-learn.org/stable/index.html"
   ]
  },
  {
   "cell_type": "markdown",
   "id": "9d305643-a79b-4278-a222-84aaf582f268",
   "metadata": {},
   "source": [
    "# Dealing with class imbalance"
   ]
  },
  {
   "cell_type": "code",
   "execution_count": 66,
   "id": "751f0a95-07f9-4ea8-8292-596bdd43ec0e",
   "metadata": {},
   "outputs": [
    {
     "data": {
      "text/plain": [
       "Attack_type\n",
       "dos            0.791930\n",
       "normal         0.197311\n",
       "probe          0.008269\n",
       "r2l            0.002374\n",
       "u2r            0.000117\n",
       "dtype: float64"
      ]
     },
     "execution_count": 66,
     "metadata": {},
     "output_type": "execute_result"
    }
   ],
   "source": [
    "y_test.value_counts().apply(lambda x: x/float(len(y_test)))"
   ]
  },
  {
   "cell_type": "code",
   "execution_count": 67,
   "id": "175e1b7c-bc94-45eb-b4d9-59701f46246e",
   "metadata": {},
   "outputs": [
    {
     "data": {
      "text/plain": [
       "Attack_type\n",
       "dos            0.792619\n",
       "normal         0.196714\n",
       "probe          0.008335\n",
       "r2l            0.002233\n",
       "u2r            0.000100\n",
       "dtype: float64"
      ]
     },
     "execution_count": 67,
     "metadata": {},
     "output_type": "execute_result"
    }
   ],
   "source": [
    "y_train.value_counts().apply(lambda x: x/float(len(y_train)))"
   ]
  },
  {
   "cell_type": "code",
   "execution_count": 68,
   "id": "ca3a4e49-60eb-4c00-b961-4386567695e3",
   "metadata": {},
   "outputs": [
    {
     "data": {
      "text/plain": [
       "Attack_type\n",
       "dos            262352\n",
       "normal          65111\n",
       "probe            2759\n",
       "r2l               739\n",
       "u2r                33\n",
       "dtype: int64"
      ]
     },
     "execution_count": 68,
     "metadata": {},
     "output_type": "execute_result"
    }
   ],
   "source": [
    "y_train.value_counts()"
   ]
  },
  {
   "cell_type": "markdown",
   "id": "8d3b303e-a60f-4f85-a3a4-33e915ad18fd",
   "metadata": {},
   "source": [
    "We can see   **dos**: from 391458 to 262352\n",
    "            **normal**: from 97278 to 65111"
   ]
  },
  {
   "cell_type": "markdown",
   "id": "bfac86c6-8314-42b5-a1e2-2c5fb8c7c5cc",
   "metadata": {},
   "source": [
    "#### Implement Oversampling\n",
    "refers to intelligently generating synthetic data points for\n",
    "minority classes"
   ]
  },
  {
   "cell_type": "code",
   "execution_count": 69,
   "id": "4d6f3e39-6450-4c75-9ba8-4937d1afd53f",
   "metadata": {},
   "outputs": [
    {
     "data": {
      "text/plain": [
       "Attack_type\n",
       "dos            262352\n",
       "normal         262352\n",
       "probe          262352\n",
       "r2l            262352\n",
       "u2r            262352\n",
       "dtype: int64"
      ]
     },
     "execution_count": 69,
     "metadata": {},
     "output_type": "execute_result"
    }
   ],
   "source": [
    "from imblearn.over_sampling import SMOTE\n",
    "\n",
    "smote = SMOTE(sampling_strategy= 'auto', random_state= 0)\n",
    "X_train_sm, y_train_sm = smote.fit_resample(X_train, y_train)\n",
    "y_train_sm.value_counts()"
   ]
  },
  {
   "cell_type": "markdown",
   "id": "2256c4cc-38f8-41ec-9b4d-b5feeccd8316",
   "metadata": {},
   "source": [
    "#### Implement Undersampling \n",
    "refers to sampling the overrepresented class(es) to reduce the\n",
    "number of samples."
   ]
  },
  {
   "cell_type": "code",
   "execution_count": 70,
   "id": "fd42dbb5-7296-4856-98ef-b6df2dbaa7e8",
   "metadata": {},
   "outputs": [
    {
     "data": {
      "text/plain": [
       "Attack_type\n",
       "dos            66198\n",
       "normal         66198\n",
       "probe          66198\n",
       "r2l            66198\n",
       "u2r            66198\n",
       "dtype: int64"
      ]
     },
     "execution_count": 70,
     "metadata": {},
     "output_type": "execute_result"
    }
   ],
   "source": [
    "from imblearn.under_sampling import RandomUnderSampler\n",
    "\n",
    "mean_class_size = int(y_train.value_counts().sum()/5)\n",
    "\n",
    "ratio = {'dos': mean_class_size,\n",
    "         'normal': mean_class_size,\n",
    "         'probe': mean_class_size,\n",
    "         'r2l': mean_class_size,\n",
    "         'u2r': mean_class_size}\n",
    "rus = RandomUnderSampler(sampling_strategy= ratio, random_state= 0, replacement= True)\n",
    "X_train_rus, y_train_rus = rus.fit_resample(X_train_sm, y_train_sm)\n",
    "y_train_rus.value_counts()"
   ]
  },
  {
   "cell_type": "markdown",
   "id": "f4b8deaa-8c09-4c0e-9aa7-b9c0e3199036",
   "metadata": {},
   "source": [
    "## Apply Gaussian Naive Bayes"
   ]
  },
  {
   "cell_type": "code",
   "execution_count": 71,
   "id": "469a7807-9824-44dc-ae11-3fe3bc05bfa3",
   "metadata": {},
   "outputs": [],
   "source": [
    "from sklearn.naive_bayes import GaussianNB\n",
    "modGNB = GaussianNB()"
   ]
  },
  {
   "cell_type": "code",
   "execution_count": 72,
   "id": "ad843553-b5df-4788-a64a-4b4ef477e561",
   "metadata": {},
   "outputs": [],
   "source": [
    "# Calculate our time training model\n",
    "s_time= time.time()\n",
    "modGNB.fit(X_train_rus, y_train_rus.values.ravel())# Using to Return a contiguous flattened values from y_train.\n",
    "e_time= time.time()"
   ]
  },
  {
   "cell_type": "code",
   "execution_count": 73,
   "id": "12be3806-76e1-4e38-9d7b-b53370bab5e9",
   "metadata": {},
   "outputs": [
    {
     "name": "stdout",
     "output_type": "stream",
     "text": [
      "Training time:  0.9606235027313232\n"
     ]
    }
   ],
   "source": [
    "print('Training time: ', e_time-s_time)"
   ]
  },
  {
   "cell_type": "code",
   "execution_count": 74,
   "id": "4cc73c04-2981-432e-b4fe-7145792fcd01",
   "metadata": {},
   "outputs": [],
   "source": [
    "# Calculate our time testing model\n",
    "s_time= time.time()\n",
    "pred_modGNB = modGNB.predict(X_test)\n",
    "e_time= time.time()"
   ]
  },
  {
   "cell_type": "code",
   "execution_count": 75,
   "id": "83245cb1-fd4d-4750-b457-d8994867740d",
   "metadata": {},
   "outputs": [
    {
     "name": "stdout",
     "output_type": "stream",
     "text": [
      "Testing time:  0.3005814552307129\n"
     ]
    }
   ],
   "source": [
    "print('Testing time: ', e_time-s_time)"
   ]
  },
  {
   "cell_type": "code",
   "execution_count": 76,
   "id": "32c29a18-7c19-41a1-bac0-58bddc45d647",
   "metadata": {},
   "outputs": [
    {
     "name": "stdout",
     "output_type": "stream",
     "text": [
      "Train score is:  0.7937641620592767\n",
      "Test score is:  0.8802529642329184\n"
     ]
    }
   ],
   "source": [
    "# evaluate a score for both train and test\n",
    "print('Train score is: ', modGNB.score(X_train_rus, y_train_rus))\n",
    "print('Test score is: ', modGNB.score(X_test, y_test))"
   ]
  },
  {
   "cell_type": "markdown",
   "id": "4b83c6f7-b4bd-4c38-88dc-0f439c1429d5",
   "metadata": {},
   "source": [
    "## Apply Decision Tree"
   ]
  },
  {
   "cell_type": "code",
   "execution_count": 77,
   "id": "937598c7-ee5c-4316-b926-269aafabfee3",
   "metadata": {},
   "outputs": [],
   "source": [
    "from sklearn.tree import DecisionTreeClassifier\n",
    "modDT = DecisionTreeClassifier(criterion= 'entropy', max_depth= 4)"
   ]
  },
  {
   "cell_type": "code",
   "execution_count": 78,
   "id": "c0d1bab0-a63f-4b69-b1d4-19c779c31a37",
   "metadata": {},
   "outputs": [],
   "source": [
    "# Calculate our time training model\n",
    "s_time= time.time()\n",
    "modDT.fit(X_train_rus, y_train_rus.values.ravel())# Using to Return a contiguous flattened values from y_train.\n",
    "e_time= time.time()"
   ]
  },
  {
   "cell_type": "code",
   "execution_count": 79,
   "id": "e0b022dc-94d0-4009-a394-28b0c9fb656a",
   "metadata": {},
   "outputs": [
    {
     "name": "stdout",
     "output_type": "stream",
     "text": [
      "Training time:  2.077519416809082\n"
     ]
    }
   ],
   "source": [
    "print('Training time: ', e_time-s_time)"
   ]
  },
  {
   "cell_type": "code",
   "execution_count": 80,
   "id": "3c433c4c-b494-4ef5-82f8-a8a584c37a3e",
   "metadata": {},
   "outputs": [],
   "source": [
    "# Calculate our time testing model\n",
    "s_time= time.time()\n",
    "pred_modDT = modDT.predict(X_test)\n",
    "e_time= time.time()"
   ]
  },
  {
   "cell_type": "code",
   "execution_count": 81,
   "id": "4d08d9e3-9e29-4814-9836-02ef8a8d1542",
   "metadata": {},
   "outputs": [
    {
     "name": "stdout",
     "output_type": "stream",
     "text": [
      "Testing time:  0.023993492126464844\n"
     ]
    }
   ],
   "source": [
    "print('Testing time: ', e_time-s_time)"
   ]
  },
  {
   "cell_type": "code",
   "execution_count": 82,
   "id": "d36d725c-62eb-4707-8a5f-4c5e48bf22cb",
   "metadata": {},
   "outputs": [
    {
     "name": "stdout",
     "output_type": "stream",
     "text": [
      "Train score is:  0.9215474787757938\n",
      "Test score is:  0.9560440908561159\n"
     ]
    }
   ],
   "source": [
    "# evaluate a score for both train and test\n",
    "print('Train score is: ', modDT.score(X_train_rus, y_train_rus))\n",
    "print('Test score is: ', modDT.score(X_test, y_test))"
   ]
  },
  {
   "cell_type": "markdown",
   "id": "4fb35325-02e3-4ac5-8790-0caf1eec8e15",
   "metadata": {},
   "source": [
    "## Apply Random Rorest "
   ]
  },
  {
   "cell_type": "code",
   "execution_count": 83,
   "id": "827e25b2-5f0d-473c-a76b-dcbe119f941c",
   "metadata": {},
   "outputs": [],
   "source": [
    "from sklearn.ensemble import RandomForestClassifier\n",
    "modRF= RandomForestClassifier(n_estimators= 30)"
   ]
  },
  {
   "cell_type": "code",
   "execution_count": 84,
   "id": "ea6160f3-2cfe-4b28-b023-4ae5d0ba5442",
   "metadata": {},
   "outputs": [],
   "source": [
    "# Calculate our time training model\n",
    "s_time= time.time()\n",
    "modRF.fit(X_train_rus, y_train_rus.values.ravel())# Using to Return a contiguous flattened values from y_train.\n",
    "e_time= time.time()"
   ]
  },
  {
   "cell_type": "code",
   "execution_count": 85,
   "id": "20f5ec53-660b-44ca-8c08-e2273571efae",
   "metadata": {},
   "outputs": [
    {
     "name": "stdout",
     "output_type": "stream",
     "text": [
      "Training time:  10.982484102249146\n"
     ]
    }
   ],
   "source": [
    "print('Training time: ', e_time-s_time)"
   ]
  },
  {
   "cell_type": "code",
   "execution_count": 86,
   "id": "5f6c7608-2061-4232-bac5-5224b24125a1",
   "metadata": {},
   "outputs": [],
   "source": [
    "# Calculate our time testing model\n",
    "s_time= time.time()\n",
    "pred_modRF = modRF.predict(X_test)\n",
    "e_time= time.time()"
   ]
  },
  {
   "cell_type": "code",
   "execution_count": 87,
   "id": "e18157b5-3cb2-4688-93ee-4a85adb06bbd",
   "metadata": {},
   "outputs": [
    {
     "name": "stdout",
     "output_type": "stream",
     "text": [
      "Testing time:  0.4870898723602295\n"
     ]
    }
   ],
   "source": [
    "print('Testing time: ', e_time-s_time)"
   ]
  },
  {
   "cell_type": "code",
   "execution_count": 88,
   "id": "59741f9f-c20f-4bf6-9041-ae0f50f75d82",
   "metadata": {},
   "outputs": [
    {
     "name": "stdout",
     "output_type": "stream",
     "text": [
      "Train score is:  0.9999848938034381\n",
      "Test score is:  0.9994663460653757\n"
     ]
    }
   ],
   "source": [
    "# evaluate a score for both train and test\n",
    "print('Train score is: ', modRF.score(X_train_rus, y_train_rus))\n",
    "print('Test score is: ', modRF.score(X_test, y_test))"
   ]
  },
  {
   "cell_type": "markdown",
   "id": "83f5bb73-d03c-4a12-a597-2a2c223851d6",
   "metadata": {},
   "source": [
    "## Apply Support Vector Machine"
   ]
  },
  {
   "cell_type": "code",
   "execution_count": 89,
   "id": "86ee3d9b-51ba-4685-9740-0f104c3ecd36",
   "metadata": {},
   "outputs": [],
   "source": [
    "from sklearn.svm import SVC\n",
    "modSVM = SVC(gamma= 'scale')"
   ]
  },
  {
   "cell_type": "code",
   "execution_count": 90,
   "id": "054a75bf-ae6e-48e8-bd38-400219da279b",
   "metadata": {},
   "outputs": [],
   "source": [
    "# Calculate our time training model\n",
    "s_time= time.time()\n",
    "modSVM.fit(X_train_rus, y_train_rus.values.ravel())# Using to Return a contiguous flattened values from y_train.\n",
    "e_time= time.time()"
   ]
  },
  {
   "cell_type": "code",
   "execution_count": 91,
   "id": "7b16e5ea-f960-45d6-848b-858dc4fe2d07",
   "metadata": {},
   "outputs": [
    {
     "name": "stdout",
     "output_type": "stream",
     "text": [
      "Training time:  685.3784263134003\n"
     ]
    }
   ],
   "source": [
    "print('Training time: ', e_time-s_time)"
   ]
  },
  {
   "cell_type": "code",
   "execution_count": 92,
   "id": "67ee738d-e742-419c-b860-2dd270a28bc1",
   "metadata": {},
   "outputs": [],
   "source": [
    "# Calculate our time testing model\n",
    "s_time= time.time()\n",
    "pred_modSVM = modSVM.predict(X_test)\n",
    "e_time= time.time()"
   ]
  },
  {
   "cell_type": "code",
   "execution_count": 93,
   "id": "62b184b4-db27-460e-803d-c1c2909b1be1",
   "metadata": {},
   "outputs": [
    {
     "name": "stdout",
     "output_type": "stream",
     "text": [
      "Testing time:  563.9377031326294\n"
     ]
    }
   ],
   "source": [
    "print('Testing time: ', e_time-s_time)"
   ]
  },
  {
   "cell_type": "code",
   "execution_count": 94,
   "id": "39656d2f-1445-409b-9fa3-04057e6d6b9c",
   "metadata": {},
   "outputs": [
    {
     "name": "stdout",
     "output_type": "stream",
     "text": [
      "Train score is:  0.9739629596060304\n",
      "Test score is:  0.9917498328497734\n"
     ]
    }
   ],
   "source": [
    "# evaluate a score for both train and test\n",
    "print('Train score is: ', modSVM.score(X_train_rus, y_train_rus))\n",
    "print('Test score is: ', modSVM.score(X_test, y_test))"
   ]
  },
  {
   "cell_type": "markdown",
   "id": "51f411ec-58a3-44a5-9d4b-5ce1a4d0d47d",
   "metadata": {},
   "source": [
    "Here we can notice SVM algorithm is late :("
   ]
  },
  {
   "cell_type": "markdown",
   "id": "e20ff101-9756-45c0-86ae-feb83813f21b",
   "metadata": {},
   "source": [
    "## Apply Logistic Regression"
   ]
  },
  {
   "cell_type": "code",
   "execution_count": 95,
   "id": "abfc36a4-752c-4614-afa9-8d6317c782e4",
   "metadata": {},
   "outputs": [],
   "source": [
    "from sklearn.linear_model import LogisticRegression\n",
    "modLR = LogisticRegression(max_iter= 1200000)"
   ]
  },
  {
   "cell_type": "code",
   "execution_count": 96,
   "id": "ce3bfe90-fb34-42db-841f-5916d97d5773",
   "metadata": {},
   "outputs": [],
   "source": [
    "# Calculate our time training model\n",
    "s_time= time.time()\n",
    "modLR.fit(X_train_rus, y_train_rus.values.ravel())# Using to Return a contiguous flattened values from y_train.\n",
    "e_time= time.time()"
   ]
  },
  {
   "cell_type": "code",
   "execution_count": 97,
   "id": "6a2b3a04-491b-4b6f-8a24-ed01e7bcc99b",
   "metadata": {},
   "outputs": [
    {
     "name": "stdout",
     "output_type": "stream",
     "text": [
      "Training time:  105.90997266769409\n"
     ]
    }
   ],
   "source": [
    "print('Training time: ', e_time-s_time)"
   ]
  },
  {
   "cell_type": "code",
   "execution_count": 98,
   "id": "fc9a9cec-3253-4a77-a495-b614c4761bde",
   "metadata": {},
   "outputs": [],
   "source": [
    "# Calculate our time testing model\n",
    "s_time= time.time()\n",
    "pred_modLR = modLR.predict(X_test)\n",
    "e_time= time.time()"
   ]
  },
  {
   "cell_type": "code",
   "execution_count": 99,
   "id": "389e46af-6c4b-44cf-b32d-b4a9089fb65d",
   "metadata": {},
   "outputs": [
    {
     "name": "stdout",
     "output_type": "stream",
     "text": [
      "Testing time:  0.029862403869628906\n"
     ]
    }
   ],
   "source": [
    "print('Testing time: ', e_time-s_time)"
   ]
  },
  {
   "cell_type": "code",
   "execution_count": 100,
   "id": "d6bd0132-8c3a-4aff-b7bf-52e1cad0c6ba",
   "metadata": {},
   "outputs": [
    {
     "name": "stdout",
     "output_type": "stream",
     "text": [
      "Train score is:  0.9422913078944983\n",
      "Test score is:  0.9796536769982886\n"
     ]
    }
   ],
   "source": [
    "# evaluate a score for both train and test\n",
    "print('Train score is: ', modLR.score(X_train_rus, y_train_rus))\n",
    "print('Test score is: ', modLR.score(X_test, y_test))"
   ]
  },
  {
   "cell_type": "markdown",
   "id": "21bb64a7-cd3c-4566-b95c-941113c21011",
   "metadata": {},
   "source": [
    "## Apply Gradient Boosting"
   ]
  },
  {
   "cell_type": "code",
   "execution_count": 101,
   "id": "a59d02e8-2b8f-48f8-b6ce-f1da7e67f2b5",
   "metadata": {},
   "outputs": [],
   "source": [
    "from sklearn.ensemble import GradientBoostingClassifier\n",
    "modGB = GradientBoostingClassifier(random_state= 0)"
   ]
  },
  {
   "cell_type": "code",
   "execution_count": 102,
   "id": "1e9d8a6a-7b37-4d43-9b3e-a1b9ffa2826c",
   "metadata": {},
   "outputs": [],
   "source": [
    "# Calculate our time training model\n",
    "s_time= time.time()\n",
    "modGB.fit(X_train_rus, y_train_rus.values.ravel())# Using to Return a contiguous flattened values from y_train.\n",
    "e_time= time.time()"
   ]
  },
  {
   "cell_type": "code",
   "execution_count": 103,
   "id": "8d16ea3b-839c-474d-b8be-1509145690db",
   "metadata": {},
   "outputs": [
    {
     "name": "stdout",
     "output_type": "stream",
     "text": [
      "Training time:  514.6790626049042\n"
     ]
    }
   ],
   "source": [
    "print('Training time: ', e_time-s_time)"
   ]
  },
  {
   "cell_type": "code",
   "execution_count": 104,
   "id": "9bdfc81b-223e-4e07-8a02-983654863f41",
   "metadata": {},
   "outputs": [],
   "source": [
    "# Calculate our time testing model\n",
    "s_time= time.time()\n",
    "pred_modGB = modGB.predict(X_test)\n",
    "e_time= time.time()"
   ]
  },
  {
   "cell_type": "code",
   "execution_count": 105,
   "id": "c5ae1121-82ae-4ae6-b351-969182f4dbc2",
   "metadata": {},
   "outputs": [
    {
     "name": "stdout",
     "output_type": "stream",
     "text": [
      "Testing time:  1.2446503639221191\n"
     ]
    }
   ],
   "source": [
    "print('Testing time: ', e_time-s_time)"
   ]
  },
  {
   "cell_type": "code",
   "execution_count": 106,
   "id": "364aed51-447f-4ac6-ad2a-ced7a18401dd",
   "metadata": {},
   "outputs": [
    {
     "name": "stdout",
     "output_type": "stream",
     "text": [
      "Train score is:  0.9973322456871809\n",
      "Test score is:  0.9973930698595939\n"
     ]
    }
   ],
   "source": [
    "# evaluate a score for both train and test\n",
    "print('Train score is: ', modGB.score(X_train_rus, y_train_rus))\n",
    "print('Test score is: ', modGB.score(X_test, y_test))"
   ]
  },
  {
   "cell_type": "markdown",
   "id": "1f11247c-788a-44cc-b822-4cb27d125031",
   "metadata": {},
   "source": [
    "## Apply Artificial Neural Network"
   ]
  },
  {
   "cell_type": "code",
   "execution_count": 107,
   "id": "b4053c4e-6ec1-44fc-975f-8392d6158c8b",
   "metadata": {},
   "outputs": [],
   "source": [
    "from keras.models import Sequential\n",
    "from keras.layers import Dense\n",
    "from keras.wrappers.scikit_learn import KerasClassifier"
   ]
  },
  {
   "cell_type": "code",
   "execution_count": 108,
   "id": "72505ea4-ee5d-430d-afc6-039d738aa941",
   "metadata": {},
   "outputs": [],
   "source": [
    "def func():\n",
    "    model = Sequential()\n",
    "    \n",
    "    # here 30 is output dimension\n",
    "    model.add(Dense(30, input_dim= 30, activation= 'relu', kernel_initializer='random_uniform'))\n",
    "    \n",
    "    #in next layer we do not specify the input_dim as the model is sequential so output of previous layer is input to next layer\n",
    "    \n",
    "    model.add(Dense(1, activation='sigmoid', kernel_initializer= 'random_uniform'))\n",
    "    \n",
    "    # 5 classes: normal, dos, probe, r2l, u2r\n",
    "    model.add(Dense(5, activation= 'softmax'))\n",
    "    \n",
    "    # loss is categorical_crossentropy which specifies that we have multiple classes\n",
    "    model.compile(loss= 'categorical_crossentropy', optimizer= 'adam', metrics= ['accuracy'])\n",
    "    \n",
    "    return model"
   ]
  },
  {
   "cell_type": "markdown",
   "id": "848192eb-06cf-4bac-8035-5e64e9b106a1",
   "metadata": {},
   "source": [
    "**Note:** Since,the dataset is very big and we cannot fit complete data at once so we use **batch size**.\n",
    "This **divides** our data into batches each of size equal to batch_size.\n",
    "Now only this number of samples will be loaded into memory and processed. \n",
    "Once we are done with one batch it is flushed from memory and the next batch will be processed."
   ]
  },
  {
   "cell_type": "code",
   "execution_count": 109,
   "id": "618030a0-bbe6-4813-8e6f-ab541a7296ab",
   "metadata": {},
   "outputs": [],
   "source": [
    "modNN = KerasClassifier(build_fn= func, epochs= 100, batch_size= 64)"
   ]
  },
  {
   "cell_type": "code",
   "execution_count": 110,
   "id": "f3289aa9-2ad7-45ff-87bb-292c38ad584d",
   "metadata": {
    "tags": []
   },
   "outputs": [
    {
     "name": "stdout",
     "output_type": "stream",
     "text": [
      "Epoch 1/100\n",
      "5172/5172 [==============================] - 14s 708us/step - loss: 1.2984 - accuracy: 0.4389\n",
      "Epoch 2/100\n",
      "5172/5172 [==============================] - 4s 716us/step - loss: 0.9239 - accuracy: 0.6012\n",
      "Epoch 3/100\n",
      "5172/5172 [==============================] - 4s 712us/step - loss: 0.8308 - accuracy: 0.6157\n",
      "Epoch 4/100\n",
      "5172/5172 [==============================] - ETA: 0s - loss: 0.7729 - accuracy: 0.68 - 4s 712us/step - loss: 0.7728 - accuracy: 0.6866\n",
      "Epoch 5/100\n",
      "5172/5172 [==============================] - 4s 716us/step - loss: 0.7262 - accuracy: 0.7217\n",
      "Epoch 6/100\n",
      "5172/5172 [==============================] - 4s 708us/step - loss: 0.6921 - accuracy: 0.7371\n",
      "Epoch 7/100\n",
      "5172/5172 [==============================] - 4s 731us/step - loss: 0.6685 - accuracy: 0.7501\n",
      "Epoch 8/100\n",
      "5172/5172 [==============================] - 4s 710us/step - loss: 0.6443 - accuracy: 0.7679\n",
      "Epoch 9/100\n",
      "5172/5172 [==============================] - 4s 715us/step - loss: 0.6214 - accuracy: 0.7920\n",
      "Epoch 10/100\n",
      "5172/5172 [==============================] - 4s 707us/step - loss: 0.5847 - accuracy: 0.8361\n",
      "Epoch 11/100\n",
      "5172/5172 [==============================] - 4s 731us/step - loss: 0.5405 - accuracy: 0.8648\n",
      "Epoch 12/100\n",
      "5172/5172 [==============================] - 4s 716us/step - loss: 0.5030 - accuracy: 0.8726\n",
      "Epoch 13/100\n",
      "5172/5172 [==============================] - 4s 729us/step - loss: 0.4695 - accuracy: 0.8758\n",
      "Epoch 14/100\n",
      "5172/5172 [==============================] - 4s 801us/step - loss: 0.4465 - accuracy: 0.8791\n",
      "Epoch 15/100\n",
      "5172/5172 [==============================] - 4s 735us/step - loss: 0.4260 - accuracy: 0.8821\n",
      "Epoch 16/100\n",
      "5172/5172 [==============================] - 4s 723us/step - loss: 0.4087 - accuracy: 0.8835\n",
      "Epoch 17/100\n",
      "5172/5172 [==============================] - 4s 714us/step - loss: 0.3951 - accuracy: 0.8851\n",
      "Epoch 18/100\n",
      "5172/5172 [==============================] - 4s 716us/step - loss: 0.3818 - accuracy: 0.8862\n",
      "Epoch 19/100\n",
      "5172/5172 [==============================] - 4s 710us/step - loss: 0.3702 - accuracy: 0.8882\n",
      "Epoch 20/100\n",
      "5172/5172 [==============================] - 4s 733us/step - loss: 0.3602 - accuracy: 0.8892\n",
      "Epoch 21/100\n",
      "5172/5172 [==============================] - 4s 708us/step - loss: 0.3532 - accuracy: 0.8906\n",
      "Epoch 22/100\n",
      "5172/5172 [==============================] - 4s 719us/step - loss: 0.3413 - accuracy: 0.8932\n",
      "Epoch 23/100\n",
      "5172/5172 [==============================] - 4s 710us/step - loss: 0.3387 - accuracy: 0.8930\n",
      "Epoch 24/100\n",
      "5172/5172 [==============================] - 4s 727us/step - loss: 0.3306 - accuracy: 0.8946\n",
      "Epoch 25/100\n",
      "5172/5172 [==============================] - 4s 714us/step - loss: 0.3253 - accuracy: 0.8959\n",
      "Epoch 26/100\n",
      "5172/5172 [==============================] - 4s 712us/step - loss: 0.3210 - accuracy: 0.8961\n",
      "Epoch 27/100\n",
      "5172/5172 [==============================] - 4s 708us/step - loss: 0.3146 - accuracy: 0.8992\n",
      "Epoch 28/100\n",
      "5172/5172 [==============================] - 4s 746us/step - loss: 0.3059 - accuracy: 0.9009\n",
      "Epoch 29/100\n",
      "5172/5172 [==============================] - 4s 737us/step - loss: 0.3024 - accuracy: 0.9016\n",
      "Epoch 30/100\n",
      "5172/5172 [==============================] - 4s 714us/step - loss: 0.2988 - accuracy: 0.9032\n",
      "Epoch 31/100\n",
      "5172/5172 [==============================] - 4s 708us/step - loss: 0.2937 - accuracy: 0.9048\n",
      "Epoch 32/100\n",
      "5172/5172 [==============================] - 4s 720us/step - loss: 0.2882 - accuracy: 0.9067\n",
      "Epoch 33/100\n",
      "5172/5172 [==============================] - 4s 727us/step - loss: 0.2827 - accuracy: 0.9073\n",
      "Epoch 34/100\n",
      "5172/5172 [==============================] - 4s 712us/step - loss: 0.2814 - accuracy: 0.9080\n",
      "Epoch 35/100\n",
      "5172/5172 [==============================] - 4s 712us/step - loss: 0.2771 - accuracy: 0.9084\n",
      "Epoch 36/100\n",
      "5172/5172 [==============================] - 4s 712us/step - loss: 0.2732 - accuracy: 0.9097\n",
      "Epoch 37/100\n",
      "5172/5172 [==============================] - 4s 733us/step - loss: 0.2742 - accuracy: 0.9104\n",
      "Epoch 38/100\n",
      "5172/5172 [==============================] - 4s 721us/step - loss: 0.2698 - accuracy: 0.9092\n",
      "Epoch 39/100\n",
      "5172/5172 [==============================] - 4s 719us/step - loss: 0.2651 - accuracy: 0.9103\n",
      "Epoch 40/100\n",
      "5172/5172 [==============================] - 4s 712us/step - loss: 0.2651 - accuracy: 0.9102\n",
      "Epoch 41/100\n",
      "5172/5172 [==============================] - 4s 733us/step - loss: 0.2640 - accuracy: 0.9112\n",
      "Epoch 42/100\n",
      "5172/5172 [==============================] - 4s 710us/step - loss: 0.2633 - accuracy: 0.9102\n",
      "Epoch 43/100\n",
      "5172/5172 [==============================] - 4s 712us/step - loss: 0.2615 - accuracy: 0.9111\n",
      "Epoch 44/100\n",
      "5172/5172 [==============================] - 4s 712us/step - loss: 0.2600 - accuracy: 0.9114\n",
      "Epoch 45/100\n",
      "5172/5172 [==============================] - 4s 725us/step - loss: 0.2605 - accuracy: 0.9107\n",
      "Epoch 46/100\n",
      "5172/5172 [==============================] - 4s 745us/step - loss: 0.2567 - accuracy: 0.9114\n",
      "Epoch 47/100\n",
      "5172/5172 [==============================] - 4s 713us/step - loss: 0.2581 - accuracy: 0.9114\n",
      "Epoch 48/100\n",
      "5172/5172 [==============================] - 4s 709us/step - loss: 0.2541 - accuracy: 0.9111\n",
      "Epoch 49/100\n",
      "5172/5172 [==============================] - 4s 710us/step - loss: 0.2565 - accuracy: 0.9118\n",
      "Epoch 50/100\n",
      "5172/5172 [==============================] - 4s 733us/step - loss: 0.2533 - accuracy: 0.9119\n",
      "Epoch 51/100\n",
      "5172/5172 [==============================] - 4s 716us/step - loss: 0.2568 - accuracy: 0.9102\n",
      "Epoch 52/100\n",
      "5172/5172 [==============================] - 4s 712us/step - loss: 0.2519 - accuracy: 0.9118\n",
      "Epoch 53/100\n",
      "5172/5172 [==============================] - 4s 710us/step - loss: 0.2540 - accuracy: 0.9120\n",
      "Epoch 54/100\n",
      "5172/5172 [==============================] - 4s 729us/step - loss: 0.2515 - accuracy: 0.9118\n",
      "Epoch 55/100\n",
      "5172/5172 [==============================] - 4s 710us/step - loss: 0.2496 - accuracy: 0.9120\n",
      "Epoch 56/100\n",
      "5172/5172 [==============================] - 4s 710us/step - loss: 0.2498 - accuracy: 0.9124\n",
      "Epoch 57/100\n",
      "5172/5172 [==============================] - 4s 710us/step - loss: 0.2499 - accuracy: 0.9122\n",
      "Epoch 58/100\n",
      "5172/5172 [==============================] - 4s 729us/step - loss: 0.2484 - accuracy: 0.9114\n",
      "Epoch 59/100\n",
      "5172/5172 [==============================] - 4s 717us/step - loss: 0.2458 - accuracy: 0.9121\n",
      "Epoch 60/100\n",
      "5172/5172 [==============================] - 4s 723us/step - loss: 0.2459 - accuracy: 0.9121\n",
      "Epoch 61/100\n",
      "5172/5172 [==============================] - 4s 714us/step - loss: 0.2456 - accuracy: 0.9122\n",
      "Epoch 62/100\n",
      "5172/5172 [==============================] - 4s 707us/step - loss: 0.2469 - accuracy: 0.9115\n",
      "Epoch 63/100\n",
      "5172/5172 [==============================] - 4s 734us/step - loss: 0.2462 - accuracy: 0.9125\n",
      "Epoch 64/100\n",
      "5172/5172 [==============================] - 4s 712us/step - loss: 0.2443 - accuracy: 0.9127\n",
      "Epoch 65/100\n",
      "5172/5172 [==============================] - 4s 715us/step - loss: 0.2430 - accuracy: 0.9132\n",
      "Epoch 66/100\n",
      "5172/5172 [==============================] - 4s 715us/step - loss: 0.2422 - accuracy: 0.9125\n",
      "Epoch 67/100\n",
      "5172/5172 [==============================] - 4s 735us/step - loss: 0.2449 - accuracy: 0.9123\n",
      "Epoch 68/100\n",
      "5172/5172 [==============================] - 4s 717us/step - loss: 0.2452 - accuracy: 0.9124\n",
      "Epoch 69/100\n",
      "5172/5172 [==============================] - 4s 712us/step - loss: 0.2421 - accuracy: 0.9136\n",
      "Epoch 70/100\n",
      "5172/5172 [==============================] - 4s 714us/step - loss: 0.2422 - accuracy: 0.9130\n",
      "Epoch 71/100\n",
      "5172/5172 [==============================] - 4s 739us/step - loss: 0.2411 - accuracy: 0.9133\n",
      "Epoch 72/100\n",
      "5172/5172 [==============================] - 4s 714us/step - loss: 0.2451 - accuracy: 0.9126\n",
      "Epoch 73/100\n",
      "5172/5172 [==============================] - 4s 706us/step - loss: 0.2405 - accuracy: 0.9123\n",
      "Epoch 74/100\n",
      "5172/5172 [==============================] - 4s 714us/step - loss: 0.2390 - accuracy: 0.9133\n",
      "Epoch 75/100\n",
      "5172/5172 [==============================] - 4s 712us/step - loss: 0.2387 - accuracy: 0.9133\n",
      "Epoch 76/100\n",
      "5172/5172 [==============================] - 4s 745us/step - loss: 0.2407 - accuracy: 0.9125\n",
      "Epoch 77/100\n",
      "5172/5172 [==============================] - 4s 708us/step - loss: 0.2404 - accuracy: 0.9136\n",
      "Epoch 78/100\n",
      "5172/5172 [==============================] - 4s 706us/step - loss: 0.2372 - accuracy: 0.9136\n",
      "Epoch 79/100\n",
      "5172/5172 [==============================] - 4s 731us/step - loss: 0.2411 - accuracy: 0.9133\n",
      "Epoch 80/100\n",
      "5172/5172 [==============================] - 4s 733us/step - loss: 0.2379 - accuracy: 0.9150\n",
      "Epoch 81/100\n",
      "5172/5172 [==============================] - 4s 712us/step - loss: 0.2392 - accuracy: 0.9143\n",
      "Epoch 82/100\n",
      "5172/5172 [==============================] - 4s 760us/step - loss: 0.2406 - accuracy: 0.9144\n",
      "Epoch 83/100\n",
      "5172/5172 [==============================] - 4s 716us/step - loss: 0.2383 - accuracy: 0.9146\n",
      "Epoch 84/100\n",
      "5172/5172 [==============================] - 4s 741us/step - loss: 0.2372 - accuracy: 0.9161\n",
      "Epoch 85/100\n",
      "5172/5172 [==============================] - 4s 710us/step - loss: 0.2332 - accuracy: 0.9162\n",
      "Epoch 86/100\n",
      "5172/5172 [==============================] - 4s 710us/step - loss: 0.2214 - accuracy: 0.9248\n",
      "Epoch 87/100\n",
      "5172/5172 [==============================] - 4s 735us/step - loss: 0.0966 - accuracy: 0.9859\n",
      "Epoch 88/100\n",
      "5172/5172 [==============================] - 4s 727us/step - loss: 0.0896 - accuracy: 0.9871\n",
      "Epoch 89/100\n",
      "5172/5172 [==============================] - 4s 721us/step - loss: 0.0897 - accuracy: 0.9871\n",
      "Epoch 90/100\n",
      "5172/5172 [==============================] - 4s 729us/step - loss: 0.0851 - accuracy: 0.9873\n",
      "Epoch 91/100\n",
      "5172/5172 [==============================] - 4s 708us/step - loss: 0.0862 - accuracy: 0.9872\n",
      "Epoch 92/100\n",
      "5172/5172 [==============================] - 4s 715us/step - loss: 0.0869 - accuracy: 0.9872\n",
      "Epoch 93/100\n",
      "5172/5172 [==============================] - 4s 752us/step - loss: 0.0872 - accuracy: 0.9875\n",
      "Epoch 94/100\n",
      "5172/5172 [==============================] - 4s 710us/step - loss: 0.0848 - accuracy: 0.9878\n",
      "Epoch 95/100\n",
      "5172/5172 [==============================] - 4s 714us/step - loss: 0.0851 - accuracy: 0.9875\n",
      "Epoch 96/100\n",
      "5172/5172 [==============================] - 4s 712us/step - loss: 0.0822 - accuracy: 0.9878\n",
      "Epoch 97/100\n",
      "5172/5172 [==============================] - 4s 761us/step - loss: 0.0837 - accuracy: 0.9875\n",
      "Epoch 98/100\n",
      "5172/5172 [==============================] - 4s 719us/step - loss: 0.0831 - accuracy: 0.9879\n",
      "Epoch 99/100\n",
      "5172/5172 [==============================] - 4s 708us/step - loss: 0.0835 - accuracy: 0.9876\n",
      "Epoch 100/100\n",
      "5172/5172 [==============================] - 4s 712us/step - loss: 0.0823 - accuracy: 0.9876\n"
     ]
    }
   ],
   "source": [
    "start = time.time()\n",
    "modNN.fit(X_train_rus, y_train_rus.values.ravel())\n",
    "end = time.time()"
   ]
  },
  {
   "cell_type": "code",
   "execution_count": 111,
   "id": "b8aaf852-3310-4b3e-87b4-0edef7778a1e",
   "metadata": {},
   "outputs": [
    {
     "name": "stdout",
     "output_type": "stream",
     "text": [
      "Training time 384.8384850025177\n"
     ]
    }
   ],
   "source": [
    "print('Training time',end - start)"
   ]
  },
  {
   "cell_type": "code",
   "execution_count": 112,
   "id": "436a5334-941b-4885-906d-3cb9588fd9ae",
   "metadata": {},
   "outputs": [],
   "source": [
    "s_time = time.time()\n",
    "y_test_pred = modNN.predict(X_test)\n",
    "e_time = time.time()"
   ]
  },
  {
   "cell_type": "code",
   "execution_count": 113,
   "id": "4cf1fa48-28a2-4809-b358-8586df52bb9f",
   "metadata": {},
   "outputs": [
    {
     "name": "stdout",
     "output_type": "stream",
     "text": [
      "Testing time 1.557352066040039\n"
     ]
    }
   ],
   "source": [
    "print('Testing time', e_time - s_time)"
   ]
  },
  {
   "cell_type": "code",
   "execution_count": 114,
   "id": "6b2fc7a1-1306-4382-aad4-16a99cfc1f76",
   "metadata": {},
   "outputs": [],
   "source": [
    "s_time = time.time() \n",
    "y_train_pred = modNN.predict(X_train_rus)\n",
    "e_time = time.time()"
   ]
  },
  {
   "cell_type": "code",
   "execution_count": 115,
   "id": "b18fd74a-1437-4fb5-9a88-be2d8a9ad590",
   "metadata": {},
   "outputs": [
    {
     "data": {
      "text/plain": [
       "0.9870630532644491"
      ]
     },
     "execution_count": 115,
     "metadata": {},
     "output_type": "execute_result"
    }
   ],
   "source": [
    "accuracy_score(y_train_rus, y_train_pred)"
   ]
  },
  {
   "cell_type": "code",
   "execution_count": 116,
   "id": "3b4c7bc2-1b3b-4693-8016-44c480b1d18a",
   "metadata": {},
   "outputs": [
    {
     "data": {
      "text/plain": [
       "0.9928723462984659"
      ]
     },
     "execution_count": 116,
     "metadata": {},
     "output_type": "execute_result"
    }
   ],
   "source": [
    "accuracy_score(y_test, y_test_pred)"
   ]
  },
  {
   "cell_type": "markdown",
   "id": "384a6b4e-fb3a-43b3-a44d-2ce23c42fbb7",
   "metadata": {},
   "source": [
    "# Visualize Training Accuracy"
   ]
  },
  {
   "cell_type": "code",
   "execution_count": 3,
   "id": "f10bbb4d-16c4-49af-a988-0483e5158ccd",
   "metadata": {},
   "outputs": [
    {
     "data": {
      "image/png": "[encoded data removed]",
      "text/plain": [
       "<Figure size 3240x432 with 1 Axes>"
      ]
     },
     "metadata": {
      "needs_background": "light"
     },
     "output_type": "display_data"
    }
   ],
   "source": [
    "alg_names = ['GNB', 'DT', 'RF', 'SVM', 'LR', 'GB', 'ANN']\n",
    "vals_train = [79.37, 92.15, 99.99, 97.39, 94.22, 99.73, 98.70]\n",
    "\n",
    "figure = plt.figure(figsize= (45,6), num=10)\n",
    "plt.subplot(131)\n",
    "plt.ylim(80, 102)\n",
    "plt.bar(alg_names, vals_train);"
   ]
  },
  {
   "cell_type": "code",
   "execution_count": 8,
   "id": "12095f82-b00e-4a1f-b86e-12bc947a2b60",
   "metadata": {},
   "outputs": [],
   "source": [
    "# Save bar to png # Save bar to png \n",
    "figure.savefig('training_accuracy_figure.png', bbox_inches= 'tight')"
   ]
  },
  {
   "cell_type": "markdown",
   "id": "26d4a352-78bb-4737-8ff6-d82b6d711b06",
   "metadata": {},
   "source": [
    "# Visualize Testing Accuracy"
   ]
  },
  {
   "cell_type": "code",
   "execution_count": 5,
   "id": "f68d569d-f176-4bc7-a368-38aa3900d75a",
   "metadata": {},
   "outputs": [
    {
     "data": {
      "image/png": "[encoded data removed]",
      "text/plain": [
       "<Figure size 3240x432 with 1 Axes>"
      ]
     },
     "metadata": {
      "needs_background": "light"
     },
     "output_type": "display_data"
    }
   ],
   "source": [
    "alg_names = ['GNB', 'DT', 'RF', 'SVM', 'LR', 'GB', 'ANN']\n",
    "vals_test = [88.02, 95.60, 99.94, 99.17, 97.96, 99.73, 99.28]\n",
    "\n",
    "figure = plt.figure(figsize= (45,6), num=10)\n",
    "plt.subplot(131)\n",
    "plt.ylim(80, 102)\n",
    "plt.bar(alg_names, vals_test);"
   ]
  },
  {
   "cell_type": "code",
   "execution_count": 9,
   "id": "f3a27966-3771-4ee7-b090-710cdd6c0fd2",
   "metadata": {},
   "outputs": [],
   "source": [
    "# Save bar to png \n",
    "figure.savefig('testing_accuracy_figure.png', bbox_inches= 'tight')"
   ]
  },
  {
   "cell_type": "markdown",
   "id": "80d75fd2-5cc7-4592-a29d-d300e4f322a7",
   "metadata": {},
   "source": [
    "# Training Time"
   ]
  },
  {
   "cell_type": "code",
   "execution_count": 6,
   "id": "8c8e32b2-939b-4123-a77f-1053f6db4bca",
   "metadata": {},
   "outputs": [
    {
     "data": {
      "text/plain": [
       "<BarContainer object of 7 artists>"
      ]
     },
     "execution_count": 6,
     "metadata": {},
     "output_type": "execute_result"
    },
    {
     "data": {
      "image/png": "[encoded data removed]",
      "text/plain": [
       "<Figure size 3240x432 with 1 Axes>"
      ]
     },
     "metadata": {
      "needs_background": "light"
     },
     "output_type": "display_data"
    }
   ],
   "source": [
    "alg_names = ['GNB', 'DT', 'RF', 'SVM', 'LR', 'GB', 'ANN']\n",
    "vals_test = [0.9606, 2.077, 10.982, 685.378, 105.909, 514.679, 384.838]\n",
    "\n",
    "figure = plt.figure(figsize= (45,6), num=10)\n",
    "plt.subplot(131)\n",
    "plt.bar(alg_names, vals_test)"
   ]
  },
  {
   "cell_type": "code",
   "execution_count": 10,
   "id": "a35177d9-3409-4f6e-a637-64f43469cec6",
   "metadata": {},
   "outputs": [],
   "source": [
    "# Save bar to png \n",
    "figure.savefig('training_time_figure.png', bbox_inches= 'tight')"
   ]
  },
  {
   "cell_type": "markdown",
   "id": "f7037905-fd95-4c14-8d0a-fe4710d941fb",
   "metadata": {},
   "source": [
    "# Testing Time"
   ]
  },
  {
   "cell_type": "code",
   "execution_count": 7,
   "id": "5ad908ff-adfa-421c-8b52-b007ff33d417",
   "metadata": {},
   "outputs": [
    {
     "data": {
      "text/plain": [
       "<BarContainer object of 7 artists>"
      ]
     },
     "execution_count": 7,
     "metadata": {},
     "output_type": "execute_result"
    },
    {
     "data": {
      "image/png": "[encoded data removed]",
      "text/plain": [
       "<Figure size 3240x432 with 1 Axes>"
      ]
     },
     "metadata": {
      "needs_background": "light"
     },
     "output_type": "display_data"
    }
   ],
   "source": [
    "alg_names = ['GNB', 'DT', 'RF', 'SVM', 'LR', 'GB', 'ANN']\n",
    "vals_test = [0.3005, 0.2399, 0.4870, 563.937, 0.0298, 1.2446, 1.557]\n",
    "\n",
    "figure = plt.figure(figsize= (45,6), num=10)\n",
    "plt.subplot(131)\n",
    "plt.bar(alg_names, vals_test)"
   ]
  },
  {
   "cell_type": "code",
   "execution_count": 11,
   "id": "c4b0a2da-b21a-4dd5-8f62-be78f6dbf3ad",
   "metadata": {},
   "outputs": [],
   "source": [
    "# Save bar to png \n",
    "figure.savefig('testing_time_figure.png', bbox_inches= 'tight')"
   ]
  },
  {
   "cell_type": "markdown",
   "id": "4b618d93-0bfd-4cff-919b-aa873a12418e",
   "metadata": {},
   "source": [
    "# Now we can say Random forest The best based on accuracy and time."
   ]
  },
  {
   "cell_type": "code",
   "execution_count": null,
   "id": "5aa0c512-97b3-4e3f-af38-7183211da229",
   "metadata": {},
   "outputs": [],
   "source": []
  }
 ],
 "metadata": {
  "kernelspec": {
   "display_name": "Python 3",
   "language": "python",
   "name": "python3"
  },
  "language_info": {
   "codemirror_mode": {
    "name": "ipython",
    "version": 3
   },
   "file_extension": ".py",
   "mimetype": "text/x-python",
   "name": "python",
   "nbconvert_exporter": "python",
   "pygments_lexer": "ipython3",
   "version": "3.7.1"
  }
 },
 "nbformat": 4,
 "nbformat_minor": 5
}
